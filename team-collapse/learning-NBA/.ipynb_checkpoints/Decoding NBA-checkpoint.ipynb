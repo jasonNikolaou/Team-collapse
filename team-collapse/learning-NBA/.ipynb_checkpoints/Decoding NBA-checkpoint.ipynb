{
 "cells": [
  {
   "cell_type": "code",
   "execution_count": 1,
   "id": "64f6db6b",
   "metadata": {},
   "outputs": [],
   "source": [
    "import pickle\n",
    "import numpy as np\n",
    "import cvxpy as cp\n",
    "import matplotlib.pyplot as plt\n",
    "import copy"
   ]
  },
  {
   "cell_type": "code",
   "execution_count": 1,
   "id": "305f592c",
   "metadata": {},
   "outputs": [],
   "source": [
    "teams = ['BKN', 'MIL', 'GSW', 'LAL', 'IND', 'CHA', 'CHI', 'DET',\n",
    "          'WAS', 'TOR', 'BOS', 'NYK', 'CLE', 'MEM', 'PHI', 'NOP',\n",
    "          'HOU','MIN', 'ORL', 'SAS', 'OKC', 'UTA', 'SAC', 'POR',\n",
    "          'DEN', 'PHX', 'DAL', 'ATL', 'MIA', 'LAC']\n",
    "window = 4 # 4 samples per game (one sample / quarter)"
   ]
  },
  {
   "cell_type": "code",
   "execution_count": 2,
   "id": "0050e004",
   "metadata": {},
   "outputs": [],
   "source": [
    "N_players = 5\n",
    "players = [f'player{i}' for i in range(1, N_players+1)]\n",
    "n_components = 3 # num of hidden states\n",
    "n_features = 3 # num of observed states\n",
    "O_symbols = [0, 1, 2] # under-, avg-, over- performance\n",
    "H_symbols = [0, 1, 2] # corresponding mental states\n",
    "T = 100\n",
    "learning_iterations = 100"
   ]
  },
  {
   "cell_type": "code",
   "execution_count": 3,
   "id": "df8438d7",
   "metadata": {},
   "outputs": [],
   "source": [
    "# === M ===\n",
    "avg_transO = np.array([[0.5, 0.3, 0.2],\n",
    "                       [0.25, 0.5, 0.25],\n",
    "                       [0.2, 0.3, 0.5]])\n",
    "\n",
    "star_transO = np.array([[0.7, 0.3, 0],\n",
    "                        [0.1, 0.8, 0.1],\n",
    "                        [0, 0.3, 0.7]])\n",
    "# === N ===\n",
    "avg_transH = np.array([[0.8, 0.2, 0.0],\n",
    "                       [0.1, 0.8, 0.1],\n",
    "                       [0.0, 0.2, 0.8]])\n",
    "\n",
    "# === emission_prob ===\n",
    "avg_emission = np.array([[0.7, 0.3, 0],\n",
    "                       [0.1, 0.8, 0.1],\n",
    "                       [0.0, 0.3, 0.7]])\n",
    "\n",
    "# ===  R ===\n",
    "R_singleH = np.array([1] + [0] * len(players))\n",
    "def R_singleHO(player):\n",
    "    i = int(player[-1])\n",
    "    arr = [0] * (len(players)+1)\n",
    "    arr[0] = 0.7\n",
    "    arr[i] = 0.3\n",
    "    return np.array(arr)\n",
    "\n",
    "def R_singleO(player):\n",
    "    i = int(player[-1])\n",
    "    arr = [0] * (len(players)+1)\n",
    "    arr[i] = 1\n",
    "    return np.array(arr)\n",
    "\n",
    "def R_star(player, star):\n",
    "    if player == star:\n",
    "        return R_singleH\n",
    "    arr = [0] * (len(players)+1)\n",
    "    i = int(star[-1])\n",
    "    arr[i] = 1\n",
    "    return np.array(arr)\n",
    "    \n",
    "R_uniform = np.array([1/(1 + len(players))] * (len(players) + 1))"
   ]
  },
  {
   "cell_type": "code",
   "execution_count": 4,
   "id": "033e07c9",
   "metadata": {},
   "outputs": [],
   "source": [
    "M = star_transO\n",
    "N = avg_transH\n",
    "E = avg_emission\n",
    "R = {player: R_star(player, 'player1') for player in players}\n",
    "initial_dist = np.array([0, 1, 0])"
   ]
  },
  {
   "cell_type": "code",
   "execution_count": 5,
   "id": "ba76fc3c",
   "metadata": {},
   "outputs": [],
   "source": [
    "Os = {team: dict() for team in teams}\n",
    "Hs = {team: dict() for team in teams}\n",
    "\n",
    "for team in teams:\n",
    "    with open(f'../team-data/observations/{team}_observations.pickle', 'rb') as file:\n",
    "        Os[team] = pickle.load(file)"
   ]
  },
  {
   "cell_type": "code",
   "execution_count": 6,
   "id": "cd467b09",
   "metadata": {},
   "outputs": [],
   "source": [
    "def cond(player, h1, h2, t, M_, N_, R_): # P(H_t^player = h1 | H_{t-1}^player = h2, O_{t-1})    \n",
    "    # Requires M_, N_, R_, Os\n",
    "    v = [N_[h2][h1]]\n",
    "    for teammate in players:\n",
    "        v.append(M_[Os[teammate][t-1]][h1])\n",
    "            \n",
    "    v = np.array(v)\n",
    "    return np.dot(R_[player], v) "
   ]
  },
  {
   "cell_type": "code",
   "execution_count": 7,
   "id": "7d828132",
   "metadata": {},
   "outputs": [],
   "source": [
    "def reconstruct_hidden(Os, M, N, E, R):    \n",
    "    delta = {p: dict() for p in players}\n",
    "    psi = {p: dict() for p in players}\n",
    "    for p in players:\n",
    "        delta[p][0] = np.array([0, 1, 0])\n",
    "        psi[p][0] = np.array([None, None, None])\n",
    "\n",
    "    for p in players:  \n",
    "        for t in range(1, T):\n",
    "            max_prev = np.array([np.max([delta[p][t-1][h_] * cond(p, h, h_, t, M, N, R) for h_ in H_symbols]) for h in H_symbols])\n",
    "            delta[p][t] = [E[h][Os[p][t]] * max_prev[h] for h in H_symbols]\n",
    "            psi[p][t] = np.array([np.argmax([delta[p][t-1][h_] * cond(p, h, h_, t, M, N, R) for h_ in H_symbols]) for h in H_symbols])\n",
    "\n",
    "    Hs_predicted = {p: [] for p in players}\n",
    "    for p in players:\n",
    "        h_final = np.argmax([delta[p][T-1][h] for h in H_symbols])\n",
    "        Hs_predicted[p] = [h_final]\n",
    "        h = psi[p][T-1][h_final]\n",
    "        for t in range(T-2, -1, -1):\n",
    "            Hs_predicted[p] = [h] + Hs_predicted[p]\n",
    "            h = psi[p][t][h]\n",
    "            \n",
    "    return Hs_predicted"
   ]
  },
  {
   "cell_type": "code",
   "execution_count": 8,
   "id": "8104fe01",
   "metadata": {},
   "outputs": [],
   "source": [
    "Hs_predicted = reconstruct_hidden(Os, M, N, E, R)"
   ]
  },
  {
   "cell_type": "code",
   "execution_count": 10,
   "id": "a59d1009",
   "metadata": {},
   "outputs": [],
   "source": [
    "def find_timestamps(timeseries):\n",
    "    # Find timestamps of team collapse (ingore continuous 0, only consider the time of the first 0)\n",
    "    indices = np.where(timeseries == 0)[0]\n",
    "    if not indices.any():\n",
    "        return []\n",
    "    \n",
    "    timestamps = [indices[0]]\n",
    "    for i in range(1, len(indices)): # remove contiguous indices\n",
    "        if indices[i] != indices[i-1] + 1:\n",
    "            timestamps.append(indices[i])\n",
    "    return timestamps"
   ]
  },
  {
   "cell_type": "code",
   "execution_count": 11,
   "id": "52e78d73",
   "metadata": {},
   "outputs": [],
   "source": [
    "Hs_team_predicted = np.array([sum(states) for states in list(zip(*[Hs_predicted[p] for p in players]))])"
   ]
  },
  {
   "cell_type": "code",
   "execution_count": 12,
   "id": "e9935b21",
   "metadata": {},
   "outputs": [
    {
     "data": {
      "text/plain": [
       "[35]"
      ]
     },
     "execution_count": 12,
     "metadata": {},
     "output_type": "execute_result"
    }
   ],
   "source": [
    "find_timestamps(Hs_team_predicted)"
   ]
  },
  {
   "cell_type": "code",
   "execution_count": null,
   "id": "eb7841d2",
   "metadata": {},
   "outputs": [],
   "source": []
  },
  {
   "cell_type": "code",
   "execution_count": null,
   "id": "fda05944",
   "metadata": {},
   "outputs": [],
   "source": []
  },
  {
   "cell_type": "code",
   "execution_count": null,
   "id": "13b20a9d",
   "metadata": {},
   "outputs": [],
   "source": []
  },
  {
   "cell_type": "code",
   "execution_count": null,
   "id": "5bbe1c15",
   "metadata": {},
   "outputs": [],
   "source": []
  },
  {
   "cell_type": "code",
   "execution_count": null,
   "id": "eb33f221",
   "metadata": {},
   "outputs": [],
   "source": []
  },
  {
   "cell_type": "code",
   "execution_count": null,
   "id": "1d607243",
   "metadata": {},
   "outputs": [],
   "source": []
  },
  {
   "cell_type": "code",
   "execution_count": null,
   "id": "16ab87c5",
   "metadata": {},
   "outputs": [],
   "source": []
  },
  {
   "cell_type": "code",
   "execution_count": null,
   "id": "8a529319",
   "metadata": {},
   "outputs": [],
   "source": []
  },
  {
   "cell_type": "code",
   "execution_count": null,
   "id": "834c1197",
   "metadata": {},
   "outputs": [],
   "source": []
  },
  {
   "cell_type": "code",
   "execution_count": null,
   "id": "908be43e",
   "metadata": {},
   "outputs": [],
   "source": []
  },
  {
   "cell_type": "code",
   "execution_count": null,
   "id": "17c0e6e7",
   "metadata": {},
   "outputs": [],
   "source": []
  }
 ],
 "metadata": {
  "kernelspec": {
   "display_name": "Python 3 (ipykernel)",
   "language": "python",
   "name": "python3"
  },
  "language_info": {
   "codemirror_mode": {
    "name": "ipython",
    "version": 3
   },
   "file_extension": ".py",
   "mimetype": "text/x-python",
   "name": "python",
   "nbconvert_exporter": "python",
   "pygments_lexer": "ipython3",
   "version": "3.10.12"
  }
 },
 "nbformat": 4,
 "nbformat_minor": 5
}
