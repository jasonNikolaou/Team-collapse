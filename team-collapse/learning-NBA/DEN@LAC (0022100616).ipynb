{
 "cells": [
  {
   "cell_type": "markdown",
   "id": "0dd097c3",
   "metadata": {},
   "source": [
    "See https://www.espn.com/nba/game/_/gameId/401360435"
   ]
  },
  {
   "cell_type": "code",
   "execution_count": 1,
   "id": "f6b57b9a",
   "metadata": {},
   "outputs": [],
   "source": [
    "import pickle\n",
    "import pandas as pd\n",
    "import numpy as np\n",
    "import matplotlib.pyplot as plt"
   ]
  },
  {
   "cell_type": "code",
   "execution_count": 2,
   "id": "8c8d0c7b",
   "metadata": {},
   "outputs": [],
   "source": [
    "team = 'DEN'"
   ]
  },
  {
   "cell_type": "code",
   "execution_count": 3,
   "id": "f0f8c833",
   "metadata": {},
   "outputs": [],
   "source": [
    "active_players = dict()\n",
    "active_players['DEN'] = ['Monte Morris', 'Will Barton', 'Jeff Green', 'Aaron Gordon', 'Nikola Jokic']\n",
    "players = active_players[team]"
   ]
  },
  {
   "cell_type": "code",
   "execution_count": 4,
   "id": "a2974164",
   "metadata": {},
   "outputs": [],
   "source": [
    "window = 3\n",
    "T = int(4 * 12 / window)\n",
    "epsilon = 0.05\n",
    "H_symbols = [0, 1, 2]"
   ]
  },
  {
   "cell_type": "code",
   "execution_count": 5,
   "id": "f34dad87",
   "metadata": {},
   "outputs": [],
   "source": [
    "def cond(player, h1, h2, t, M_, N_, R_): # P(H_t^player = h1 | H_{t-1}^player = h2, O_{t-1})    \n",
    "    # Requires M_, N_, R_, Os\n",
    "    v = [N_[h2][h1]]\n",
    "    for teammate in players:\n",
    "        v.append(M_[Os[teammate][t-1]][h1])\n",
    "            \n",
    "    v = np.array(v)\n",
    "    return np.dot(R_[player], v) "
   ]
  },
  {
   "cell_type": "code",
   "execution_count": 6,
   "id": "71970f27",
   "metadata": {},
   "outputs": [],
   "source": [
    "def calcPlayerStats(team, df):\n",
    "    score_diff = []\n",
    "    players = active_players[team]\n",
    "    player_stats = {p : [] for p in players}\n",
    "    start = 0\n",
    "    period = 1\n",
    "\n",
    "    while period <= 4:\n",
    "        end_str = str(start + window).zfill(2)\n",
    "        start_str = str(start).zfill(2)\n",
    "\n",
    "        df_window = df[(df['period'] == period) & (df['elapsed'] >= f'0:{start_str}:00') & (df['elapsed'] <= f'0:{end_str}:00')]\n",
    "        \n",
    "        df_team = df_window[df_window['team'] == team]\n",
    "        df_enemy = df_window[df_window['team'] != team]\n",
    "        \n",
    "        team_PTS = df_team['points'].sum(skipna=True)\n",
    "        enemy_PTS = df_enemy['points'].sum(skipna=True)\n",
    "        \n",
    "        score_diff.append(team_PTS - enemy_PTS)\n",
    "        # Calculate PIE for each player\n",
    "        #  PIE = (PTS + FGM + FTM – FGA – FTA + Deff.REB + Off.REB/2 + AST + STL + BLK/2 – PF – TO) / \n",
    "        #        (GAME_PTS + GAME_FGM + ... - GAME_PF - GAME_TO)\n",
    "        # Calculate Game stats\n",
    "        G_PTS = df_window['points'].sum(skipna=True)\n",
    "        G_FGM = len(df_window[(df_window['event_type'] == 'shot') & (df_window['result'] == 'made')])\n",
    "        G_FGA = len(df_window[(df_window['event_type'] == 'shot')])\n",
    "        G_FTM = len(df_window[(df_window['event_type'] == 'free throw') & (df_window['result'] == 'made')])\n",
    "        G_FTA = len(df_window[(df_window['event_type'] == 'free throw')])\n",
    "        G_AST = len(df_window[df_window['assist'].notnull()])\n",
    "\n",
    "        G_DEF_REB = len(df_window[df_window['type'] == 'rebound defensive'])\n",
    "        G_OFF_REB = len(df_window[df_window['type'] == 'rebound offensive'])\n",
    "\n",
    "        G_STL = len(df_window[df_window['steal'].notnull()])\n",
    "        G_BLK = len(df_window[df_window['block'].notnull()])\n",
    "        G_PF = len(df_window[df_window['event_type'] == 'foul'])\n",
    "        G_TO = len(df_window[df_window['event_type'] == 'turnover'])\n",
    "\n",
    "        game_sum = G_PTS + G_FGM + G_FTM - G_FGA - G_FTA + G_DEF_REB + G_OFF_REB / 2 + G_AST + G_STL + G_BLK/2 - G_PF - G_TO\n",
    "            \n",
    "        for p in players:\n",
    "            df_player = df_window[(df_window['a1'] == p) | (df_window['a2'] == p) | (df_window['a3'] == p) \n",
    "                                  | (df_window['a4'] == p) | (df_window['a5'] == p) | (df_window['h1'] == p)\n",
    "                                  | (df_window['h2'] == p) | (df_window['h3'] == p) | (df_window['h4'] == p)\n",
    "                                  | (df_window['h5'] == p)]\n",
    "            \n",
    "            # Calculate PIE for each player\n",
    "            PTS = df_player[(df_player['event_type'] == 'shot') & (df_player['player'] == p)]['points'].sum(skipna=True)\n",
    "\n",
    "            FGM = len(df_player[(df_player['event_type'] == 'shot') \n",
    "                                & (df_player['result'] == 'made') \n",
    "                                & df_player['player'] == p])\n",
    "            FGA = len(df_player[(df_player['event_type'] == 'shot') & df_player['player'] == p])\n",
    "            FTM = len(df_player[(df_player['event_type'] == 'free throw') \n",
    "                                & (df_player['result'] == 'made')\n",
    "                                & (df_player['player'] == p)])\n",
    "            FTA = len(df_player[(df_player['event_type'] == 'free throw') & df_player['player'] == p])\n",
    "            AST = len(df_player[df_player['assist'] == p])\n",
    "\n",
    "            DEF_REB = len(df_player[(df_player['player'] == p) & (df_player['type'] == 'rebound defensive')])\n",
    "            OFF_REB = len(df_player[(df_player['type'] == 'rebound offensive') & (df_player['player'] == p)])\n",
    "\n",
    "            STL = len(df_player[df_player['steal'] == p])\n",
    "            BLK = len(df_player[df_player['block'] == p])\n",
    "            PF = len(df_player[(df_player['player'] == p) & (df_player['event_type'] == 'foul')])\n",
    "            TO = len(df_player[(df_player['player'] == p) & (df_player['event_type'] == 'turnover')])\n",
    "            \n",
    "            player_sum = PTS + FGM + FTM - FGA - FTA + DEF_REB + OFF_REB / 2 + AST + STL + BLK/2 - PF - TO\n",
    "            \n",
    "            # total time in seconds that player p played during the window\n",
    "            df_play_length = df_player['play_length']\n",
    "            time = df_play_length.agg(lambda col : sum(int(t[-2:]) for t in col)) if len(df_play_length) else 0\n",
    "            \n",
    "            \n",
    "            if game_sum == 0:\n",
    "                PIE = np.nan\n",
    "            else:\n",
    "                PIE = player_sum / game_sum\n",
    "                \n",
    "            # Add stats to dict\n",
    "            player_stats[p].append((PIE, player_sum, game_sum, time))\n",
    "        \n",
    "        # update window\n",
    "        start += window\n",
    "        if start >= 12:\n",
    "            start = 0 \n",
    "            period += 1\n",
    "        \n",
    "    return player_stats, score_diff"
   ]
  },
  {
   "cell_type": "code",
   "execution_count": 7,
   "id": "31610f4b",
   "metadata": {},
   "outputs": [
    {
     "data": {
      "text/plain": [
       "{'Monte Morris': [(0.0, 0.0, 12.0, 170),\n",
       "  (0.6, 3.0, 5.0, 189),\n",
       "  (0.15384615384615385, 1.0, 6.5, 133),\n",
       "  (0.0, 0.0, 9.0, 0),\n",
       "  (0.0, 0.0, 10.0, 0),\n",
       "  (0.0, 0.0, 3.0, 37),\n",
       "  (0.5, 3.0, 6.0, 195),\n",
       "  (0.5, 2.0, 4.0, 186),\n",
       "  (0.3, 3.0, 10.0, 179),\n",
       "  (0.2962962962962963, 4.0, 13.5, 174),\n",
       "  (-0.08333333333333333, -1.0, 12.0, 168),\n",
       "  (0.0, 0.0, 6.0, 75),\n",
       "  (0.0, 0.0, 11.5, 4),\n",
       "  (0.0, 0.0, 19.5, 178),\n",
       "  (0.09523809523809523, 1.0, 10.5, 182),\n",
       "  (0.0, 0.0, 11.0, 184)],\n",
       " 'Will Barton': [(0.0, 0.0, 12.0, 0),\n",
       "  (0.0, 0.0, 5.0, 0),\n",
       "  (0.0, 0.0, 6.5, 0),\n",
       "  (0.0, 0.0, 9.0, 0),\n",
       "  (0.0, 0.0, 10.0, 0),\n",
       "  (0.0, 0.0, 3.0, 0),\n",
       "  (0.0, 0.0, 6.0, 0),\n",
       "  (0.0, 0.0, 4.0, 0),\n",
       "  (0.0, 0.0, 10.0, 0),\n",
       "  (0.0, 0.0, 13.5, 0),\n",
       "  (0.0, 0.0, 12.0, 0),\n",
       "  (0.0, 0.0, 6.0, 0),\n",
       "  (0.0, 0.0, 11.5, 0),\n",
       "  (0.0, 0.0, 19.5, 0),\n",
       "  (0.0, 0.0, 10.5, 0),\n",
       "  (0.0, 0.0, 11.0, 0)],\n",
       " 'Jeff Green': [(0.0, 0.0, 12.0, 0),\n",
       "  (0.0, 0.0, 5.0, 0),\n",
       "  (0.46153846153846156, 3.0, 6.5, 166),\n",
       "  (0.2222222222222222, 2.0, 9.0, 182),\n",
       "  (0.3, 3.0, 10.0, 174),\n",
       "  (1.0, 3.0, 3.0, 171),\n",
       "  (0.0, 0.0, 6.0, 81),\n",
       "  (0.0, 0.0, 4.0, 0),\n",
       "  (0.0, 0.0, 10.0, 0),\n",
       "  (0.0, 0.0, 13.5, 0),\n",
       "  (0.0, 0.0, 12.0, 126),\n",
       "  (0.16666666666666666, 1.0, 6.0, 199),\n",
       "  (-0.043478260869565216, -0.5, 11.5, 172),\n",
       "  (0.0, 0.0, 19.5, 0),\n",
       "  (0.0, 0.0, 10.5, 0),\n",
       "  (0.0, 0.0, 11.0, 0)],\n",
       " 'Aaron Gordon': [(0.0, 0.0, 12.0, 170),\n",
       "  (0.2, 1.0, 5.0, 189),\n",
       "  (0.15384615384615385, 1.0, 6.5, 133),\n",
       "  (0.0, 0.0, 9.0, 0),\n",
       "  (0.0, 0.0, 10.0, 0),\n",
       "  (0.3333333333333333, 1.0, 3.0, 37),\n",
       "  (0.9166666666666666, 5.5, 6.0, 195),\n",
       "  (1.0, 4.0, 4.0, 181),\n",
       "  (0.5, 5.0, 10.0, 179),\n",
       "  (-0.07407407407407407, -1.0, 13.5, 174),\n",
       "  (0.25, 3.0, 12.0, 168),\n",
       "  (0.0, 0.0, 6.0, 100),\n",
       "  (0.17391304347826086, 2.0, 11.5, 15),\n",
       "  (0.41025641025641024, 8.0, 19.5, 178),\n",
       "  (0.2857142857142857, 3.0, 10.5, 182),\n",
       "  (0.13636363636363635, 1.5, 11.0, 184)],\n",
       " 'Nikola Jokic': [(0.4583333333333333, 5.5, 12.0, 170),\n",
       "  (0.2, 1.0, 5.0, 189),\n",
       "  (0.6153846153846154, 4.0, 6.5, 179),\n",
       "  (0.1111111111111111, 1.0, 9.0, 54),\n",
       "  (0.0, 0.0, 10.0, 0),\n",
       "  (-0.6666666666666666, -2.0, 3.0, 37),\n",
       "  (0.16666666666666666, 1.0, 6.0, 195),\n",
       "  (1.25, 5.0, 4.0, 186),\n",
       "  (0.2, 2.0, 10.0, 179),\n",
       "  (0.5555555555555556, 7.5, 13.5, 174),\n",
       "  (-0.25, -3.0, 12.0, 168),\n",
       "  (0.0, 0.0, 6.0, 114),\n",
       "  (0.0, 0.0, 11.5, 15),\n",
       "  (0.1282051282051282, 2.5, 19.5, 178),\n",
       "  (0.42857142857142855, 4.5, 10.5, 182),\n",
       "  (0.4090909090909091, 4.5, 11.0, 184)]}"
      ]
     },
     "execution_count": 7,
     "metadata": {},
     "output_type": "execute_result"
    }
   ],
   "source": [
    "df = pd.read_csv('../team-data/2021-2022_NBA_PbP_Logs/[2022-01-11]-0022100616-DEN@LAC.csv')\n",
    "player_stats, score_diff = calcPlayerStats(team, df)\n",
    "player_stats"
   ]
  },
  {
   "cell_type": "code",
   "execution_count": 8,
   "id": "3ec45699",
   "metadata": {},
   "outputs": [
    {
     "data": {
      "text/plain": [
       "{'Monte Morris': 0.08914934171769368,\n",
       " 'Will Barton': 0.10519931372434985,\n",
       " 'Jeff Green': 0.06201797816559909,\n",
       " 'Aaron Gordon': 0.09976851265882133,\n",
       " 'Nikola Jokic': 0.2171786514834848}"
      ]
     },
     "execution_count": 8,
     "metadata": {},
     "output_type": "execute_result"
    }
   ],
   "source": [
    "with open(f'../team-data/average/{team}_average.pkl', 'rb') as file:\n",
    "        avg_stats = pickle.load(file)\n",
    "avg_stats"
   ]
  },
  {
   "cell_type": "code",
   "execution_count": 9,
   "id": "1903627b",
   "metadata": {},
   "outputs": [
    {
     "data": {
      "text/plain": [
       "{'Monte Morris': [0, 2, 2, 2, 2, 0, 2, 2, 2, 2, 0, 0, 0, 0, 1, 0],\n",
       " 'Will Barton': [1, 1, 1, 1, 1, 1, 1, 1, 1, 1, 1, 1, 1, 1, 1, 1],\n",
       " 'Jeff Green': [1, 1, 2, 2, 2, 2, 0, 0, 0, 0, 0, 2, 0, 0, 0, 0],\n",
       " 'Aaron Gordon': [0, 2, 2, 2, 2, 2, 2, 2, 2, 0, 2, 0, 2, 2, 2, 1],\n",
       " 'Nikola Jokic': [2, 1, 2, 0, 0, 0, 0, 2, 1, 2, 0, 0, 0, 0, 2, 2]}"
      ]
     },
     "execution_count": 9,
     "metadata": {},
     "output_type": "execute_result"
    }
   ],
   "source": [
    "Os = {p: [] for p in players}\n",
    "for p in players:\n",
    "    for val in player_stats[p]:\n",
    "        time_played = val[3]\n",
    "        if time_played > 0:\n",
    "            pie = val[0]\n",
    "            label = 0 if pie < avg_stats[p] - epsilon else 2 if pie > avg_stats[p] + epsilon else 1\n",
    "            Os[p].append(label)\n",
    "        else:\n",
    "            try:\n",
    "                Os[p].append(Os[p][-1])\n",
    "            except:\n",
    "                Os[p].append(1)\n",
    "Os"
   ]
  },
  {
   "cell_type": "code",
   "execution_count": 10,
   "id": "37512872",
   "metadata": {},
   "outputs": [
    {
     "data": {
      "text/plain": [
       "{'M': array([[0. , 0.3, 0.7],\n",
       "        [0.2, 0.6, 0.2],\n",
       "        [0.7, 0.3, 0. ]]),\n",
       " 'N': array([[0.7, 0.2, 0.1],\n",
       "        [0.1, 0.7, 0.2],\n",
       "        [0. , 0.2, 0.8]]),\n",
       " 'E': array([[0.7, 0.2, 0.1],\n",
       "        [0.1, 0.8, 0.1],\n",
       "        [0.1, 0.2, 0.7]]),\n",
       " 'R': {'Monte Morris': array([0.8, 0.2, 0. , 0. , 0. , 0. ]),\n",
       "  'Will Barton': array([0.8, 0. , 0.2, 0. , 0. , 0. ]),\n",
       "  'Jeff Green': array([0.8, 0. , 0. , 0.2, 0. , 0. ]),\n",
       "  'Aaron Gordon': array([0.8, 0. , 0. , 0. , 0.2, 0. ]),\n",
       "  'Nikola Jokic': array([0.8, 0. , 0. , 0. , 0. , 0.2])},\n",
       " 'name': 'synthetic-2939'}"
      ]
     },
     "execution_count": 10,
     "metadata": {},
     "output_type": "execute_result"
    }
   ],
   "source": [
    "with open(f'./profiles2/{team}_profile.pkl', 'rb') as file:\n",
    "    params = pickle.load(file)\n",
    "params"
   ]
  },
  {
   "cell_type": "code",
   "execution_count": 11,
   "id": "121e87e0",
   "metadata": {},
   "outputs": [],
   "source": [
    "def reconstruct_hidden(Os, M, N, E, R):    \n",
    "    delta = {p: dict() for p in players}\n",
    "    psi = {p: dict() for p in players}\n",
    "    for p in players:\n",
    "        delta[p][0] = np.array([0, 1, 0])\n",
    "        psi[p][0] = np.array([None, None, None])\n",
    "\n",
    "    for p in players:  \n",
    "        for t in range(1, T):\n",
    "            max_prev = np.array([np.max([delta[p][t-1][h_] * cond(p, h, h_, t, M, N, R) for h_ in H_symbols]) for h in H_symbols])\n",
    "            delta[p][t] = [E[h][Os[p][t]] * max_prev[h] for h in H_symbols]\n",
    "            psi[p][t] = np.array([np.argmax([delta[p][t-1][h_] * cond(p, h, h_, t, M, N, R) for h_ in H_symbols]) for h in H_symbols])\n",
    "\n",
    "    Hs_predicted = {p: [] for p in players}\n",
    "    for p in players:\n",
    "        h_final = np.argmax([delta[p][T-1][h] for h in H_symbols])\n",
    "        Hs_predicted[p] = [h_final]\n",
    "        h = psi[p][T-1][h_final]\n",
    "        for t in range(T-2, -1, -1):\n",
    "            Hs_predicted[p] = [h] + Hs_predicted[p]\n",
    "            h = psi[p][t][h]\n",
    "            \n",
    "    return Hs_predicted"
   ]
  },
  {
   "cell_type": "code",
   "execution_count": 12,
   "id": "0905a52e",
   "metadata": {},
   "outputs": [],
   "source": [
    "M = params['M']\n",
    "N = params['N']\n",
    "E = params['E']\n",
    "R = params['R']\n",
    "Hs_predicted = reconstruct_hidden(Os, M, N, E, R)"
   ]
  },
  {
   "cell_type": "code",
   "execution_count": 13,
   "id": "0d825cbe",
   "metadata": {},
   "outputs": [
    {
     "data": {
      "text/plain": [
       "{'Monte Morris': [1, 2, 2, 2, 2, 2, 2, 2, 2, 2, 0, 0, 0, 0, 0, 0],\n",
       " 'Will Barton': [1, 1, 1, 1, 1, 1, 1, 1, 1, 1, 1, 1, 1, 1, 1, 1],\n",
       " 'Jeff Green': [1, 1, 2, 2, 2, 2, 0, 0, 0, 0, 0, 0, 0, 0, 0, 0],\n",
       " 'Aaron Gordon': [1, 2, 2, 2, 2, 2, 2, 2, 2, 2, 2, 2, 2, 2, 2, 1],\n",
       " 'Nikola Jokic': [1, 1, 2, 0, 0, 0, 0, 2, 2, 2, 0, 0, 0, 0, 2, 2]}"
      ]
     },
     "execution_count": 13,
     "metadata": {},
     "output_type": "execute_result"
    }
   ],
   "source": [
    "Hs_predicted"
   ]
  },
  {
   "cell_type": "code",
   "execution_count": 14,
   "id": "ce3f2700",
   "metadata": {},
   "outputs": [],
   "source": [
    "team_state = list(zip(*[Hs_predicted[p] for p in players]))\n",
    "team_state = [sum(states) for states in team_state]"
   ]
  },
  {
   "cell_type": "code",
   "execution_count": 15,
   "id": "f57a7f51",
   "metadata": {},
   "outputs": [
    {
     "data": {
      "text/plain": [
       "[5, 7, 9, 7, 7, 7, 5, 7, 7, 7, 3, 3, 3, 3, 5, 4]"
      ]
     },
     "execution_count": 15,
     "metadata": {},
     "output_type": "execute_result"
    }
   ],
   "source": [
    "team_state"
   ]
  },
  {
   "cell_type": "code",
   "execution_count": 16,
   "id": "b080748f",
   "metadata": {},
   "outputs": [
    {
     "data": {
      "image/png": "[encoded data removed]",
      "text/plain": [
       "<Figure size 640x480 with 2 Axes>"
      ]
     },
     "metadata": {},
     "output_type": "display_data"
    }
   ],
   "source": [
    "team_state = list(zip(*[Hs_predicted[p] for p in players]))\n",
    "team_state = np.array([sum(states) for states in team_state])\n",
    "\n",
    "N = len(team_state)\n",
    "fig, ax1 = plt.subplots()\n",
    "\n",
    "ax1.plot(range(1, N+1), team_state / 5 - 1, marker='o', linestyle='-', label = 'team state')\n",
    "ax1.set_xlabel('Window')\n",
    "ax1.set_ylabel('Team state')\n",
    "ax1.legend(loc='upper right')\n",
    "\n",
    "ax2 = ax1.twinx()\n",
    "ax2.plot(range(1, N+1), score_diff, marker='D', linestyle='-', color='green', label='PTS +/-')\n",
    "ax2.set_ylabel('PTS +/-')\n",
    "ax2.legend()\n",
    "ax2.legend_.set_bbox_to_anchor((0.95, 0.92))\n",
    "\n",
    "\n",
    "plt.savefig(f'./team-collapse-games/DEN@LAC.pdf', format='pdf', bbox_inches='tight')\n",
    "plt.show()"
   ]
  },
  {
   "cell_type": "code",
   "execution_count": null,
   "id": "eb7964a6",
   "metadata": {},
   "outputs": [],
   "source": []
  }
 ],
 "metadata": {
  "kernelspec": {
   "display_name": "Python 3 (ipykernel)",
   "language": "python",
   "name": "python3"
  },
  "language_info": {
   "codemirror_mode": {
    "name": "ipython",
    "version": 3
   },
   "file_extension": ".py",
   "mimetype": "text/x-python",
   "name": "python",
   "nbconvert_exporter": "python",
   "pygments_lexer": "ipython3",
   "version": "3.10.12"
  }
 },
 "nbformat": 4,
 "nbformat_minor": 5
}
