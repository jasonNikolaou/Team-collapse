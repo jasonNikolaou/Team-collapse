{
 "cells": [
  {
   "cell_type": "markdown",
   "id": "0dd097c3",
   "metadata": {},
   "source": [
    "See https://www.espn.com/nba/game/_/gameId/401359885"
   ]
  },
  {
   "cell_type": "code",
   "execution_count": 1,
   "id": "f6b57b9a",
   "metadata": {},
   "outputs": [],
   "source": [
    "import pickle\n",
    "import pandas as pd\n",
    "import numpy as np\n",
    "import matplotlib.pyplot as plt"
   ]
  },
  {
   "cell_type": "code",
   "execution_count": 2,
   "id": "8c8d0c7b",
   "metadata": {},
   "outputs": [],
   "source": [
    "team = 'LAL'"
   ]
  },
  {
   "cell_type": "code",
   "execution_count": 3,
   "id": "f0f8c833",
   "metadata": {},
   "outputs": [],
   "source": [
    "active_players = dict()\n",
    "active_players['LAL'] = ['Russell Westbrook', 'Malik Monk', 'LeBron James', 'Carmelo Anthony', 'Anthony Davis']\n",
    "players = active_players[team]"
   ]
  },
  {
   "cell_type": "code",
   "execution_count": 4,
   "id": "a2974164",
   "metadata": {},
   "outputs": [],
   "source": [
    "window = 3\n",
    "T = int(4 * 12 / window)\n",
    "epsilon = 0.05\n",
    "H_symbols = [0, 1, 2]"
   ]
  },
  {
   "cell_type": "code",
   "execution_count": 5,
   "id": "f34dad87",
   "metadata": {},
   "outputs": [],
   "source": [
    "def cond(player, h1, h2, t, M_, N_, R_): # P(H_t^player = h1 | H_{t-1}^player = h2, O_{t-1})    \n",
    "    # Requires M_, N_, R_, Os\n",
    "    v = [N_[h2][h1]]\n",
    "    for teammate in players:\n",
    "        v.append(M_[Os[teammate][t-1]][h1])\n",
    "            \n",
    "    v = np.array(v)\n",
    "    return np.dot(R_[player], v) "
   ]
  },
  {
   "cell_type": "code",
   "execution_count": 6,
   "id": "71970f27",
   "metadata": {},
   "outputs": [],
   "source": [
    "def calcPlayerStats(team, df):\n",
    "    score_diff = []\n",
    "    players = active_players[team]\n",
    "    player_stats = {p : [] for p in players}\n",
    "    start = 0\n",
    "    period = 1\n",
    "\n",
    "    while period <= 4:\n",
    "        end_str = str(start + window).zfill(2)\n",
    "        start_str = str(start).zfill(2)\n",
    "\n",
    "        df_window = df[(df['period'] == period) & (df['elapsed'] >= f'0:{start_str}:00') & (df['elapsed'] <= f'0:{end_str}:00')]\n",
    "        \n",
    "        df_team = df_window[df_window['team'] == team]\n",
    "        df_enemy = df_window[df_window['team'] != team]\n",
    "        \n",
    "        team_PTS = df_team['points'].sum(skipna=True)\n",
    "        enemy_PTS = df_enemy['points'].sum(skipna=True)\n",
    "        \n",
    "        score_diff.append(team_PTS - enemy_PTS)\n",
    "        # Calculate PIE for each player\n",
    "        #  PIE = (PTS + FGM + FTM – FGA – FTA + Deff.REB + Off.REB/2 + AST + STL + BLK/2 – PF – TO) / \n",
    "        #        (GAME_PTS + GAME_FGM + ... - GAME_PF - GAME_TO)\n",
    "        # Calculate Game stats\n",
    "        G_PTS = df_window['points'].sum(skipna=True)\n",
    "        G_FGM = len(df_window[(df_window['event_type'] == 'shot') & (df_window['result'] == 'made')])\n",
    "        G_FGA = len(df_window[(df_window['event_type'] == 'shot')])\n",
    "        G_FTM = len(df_window[(df_window['event_type'] == 'free throw') & (df_window['result'] == 'made')])\n",
    "        G_FTA = len(df_window[(df_window['event_type'] == 'free throw')])\n",
    "        G_AST = len(df_window[df_window['assist'].notnull()])\n",
    "\n",
    "        G_DEF_REB = len(df_window[df_window['type'] == 'rebound defensive'])\n",
    "        G_OFF_REB = len(df_window[df_window['type'] == 'rebound offensive'])\n",
    "\n",
    "        G_STL = len(df_window[df_window['steal'].notnull()])\n",
    "        G_BLK = len(df_window[df_window['block'].notnull()])\n",
    "        G_PF = len(df_window[df_window['event_type'] == 'foul'])\n",
    "        G_TO = len(df_window[df_window['event_type'] == 'turnover'])\n",
    "\n",
    "        game_sum = G_PTS + G_FGM + G_FTM - G_FGA - G_FTA + G_DEF_REB + G_OFF_REB / 2 + G_AST + G_STL + G_BLK/2 - G_PF - G_TO\n",
    "            \n",
    "        for p in players:\n",
    "            df_player = df_window[(df_window['a1'] == p) | (df_window['a2'] == p) | (df_window['a3'] == p) \n",
    "                                  | (df_window['a4'] == p) | (df_window['a5'] == p) | (df_window['h1'] == p)\n",
    "                                  | (df_window['h2'] == p) | (df_window['h3'] == p) | (df_window['h4'] == p)\n",
    "                                  | (df_window['h5'] == p)]\n",
    "            \n",
    "            # Calculate PIE for each player\n",
    "            PTS = df_player[(df_player['event_type'] == 'shot') & (df_player['player'] == p)]['points'].sum(skipna=True)\n",
    "\n",
    "            FGM = len(df_player[(df_player['event_type'] == 'shot') \n",
    "                                & (df_player['result'] == 'made') \n",
    "                                & df_player['player'] == p])\n",
    "            FGA = len(df_player[(df_player['event_type'] == 'shot') & df_player['player'] == p])\n",
    "            FTM = len(df_player[(df_player['event_type'] == 'free throw') \n",
    "                                & (df_player['result'] == 'made')\n",
    "                                & (df_player['player'] == p)])\n",
    "            FTA = len(df_player[(df_player['event_type'] == 'free throw') & df_player['player'] == p])\n",
    "            AST = len(df_player[df_player['assist'] == p])\n",
    "\n",
    "            DEF_REB = len(df_player[(df_player['player'] == p) & (df_player['type'] == 'rebound defensive')])\n",
    "            OFF_REB = len(df_player[(df_player['type'] == 'rebound offensive') & (df_player['player'] == p)])\n",
    "\n",
    "            STL = len(df_player[df_player['steal'] == p])\n",
    "            BLK = len(df_player[df_player['block'] == p])\n",
    "            PF = len(df_player[(df_player['player'] == p) & (df_player['event_type'] == 'foul')])\n",
    "            TO = len(df_player[(df_player['player'] == p) & (df_player['event_type'] == 'turnover')])\n",
    "            \n",
    "            player_sum = PTS + FGM + FTM - FGA - FTA + DEF_REB + OFF_REB / 2 + AST + STL + BLK/2 - PF - TO\n",
    "            \n",
    "            # total time in seconds that player p played during the window\n",
    "            df_play_length = df_player['play_length']\n",
    "            time = df_play_length.agg(lambda col : sum(int(t[-2:]) for t in col)) if len(df_play_length) else 0\n",
    "            \n",
    "            \n",
    "            if game_sum == 0:\n",
    "                PIE = np.nan\n",
    "            else:\n",
    "                PIE = player_sum / game_sum\n",
    "                \n",
    "            # Add stats to dict\n",
    "            player_stats[p].append((PIE, player_sum, game_sum, time))\n",
    "        \n",
    "        # update window\n",
    "        start += window\n",
    "        if start >= 12:\n",
    "            start = 0 \n",
    "            period += 1\n",
    "        \n",
    "    return player_stats, score_diff"
   ]
  },
  {
   "cell_type": "code",
   "execution_count": 7,
   "id": "31610f4b",
   "metadata": {},
   "outputs": [
    {
     "data": {
      "text/plain": [
       "{'Russell Westbrook': [(0.3333333333333333, 4.0, 12.0, 176),\n",
       "  (0.20833333333333334, 5.0, 24.0, 172),\n",
       "  (-0.25, -2.0, 8.0, 33),\n",
       "  (0.4482758620689655, 6.5, 14.5, 158),\n",
       "  (0.2, 3.0, 15.0, 160),\n",
       "  (0.1568627450980392, 4.0, 25.5, 146),\n",
       "  (0.05714285714285714, 1.0, 17.5, 28),\n",
       "  (-0.09090909090909091, -1.0, 11.0, 182),\n",
       "  (0.2857142857142857, 5.0, 17.5, 166),\n",
       "  (-0.10526315789473684, -1.0, 9.5, 191),\n",
       "  (0.0, 0.0, 11.0, 23),\n",
       "  (-0.2608695652173913, -3.0, 11.5, 153),\n",
       "  (0.391304347826087, 4.5, 11.5, 170),\n",
       "  (0.0, 0.0, 0.5, 18),\n",
       "  (0.23809523809523808, 2.5, 10.5, 132),\n",
       "  (0.0967741935483871, 1.5, 15.5, 184)],\n",
       " 'Malik Monk': [(0.3333333333333333, 4.0, 12.0, 176),\n",
       "  (-0.041666666666666664, -1.0, 24.0, 172),\n",
       "  (0.375, 3.0, 8.0, 157),\n",
       "  (0.0, 0.0, 14.5, 0),\n",
       "  (0.0, 0.0, 15.0, 0),\n",
       "  (0.0784313725490196, 2.0, 25.5, 51),\n",
       "  (-0.05714285714285714, -1.0, 17.5, 183),\n",
       "  (0.0, 0.0, 11.0, 182),\n",
       "  (0.0, 0.0, 17.5, 166),\n",
       "  (0.10526315789473684, 1.0, 9.5, 191),\n",
       "  (0.0, 0.0, 11.0, 176),\n",
       "  (0.0, 0.0, 11.5, 34),\n",
       "  (0.08695652173913043, 1.0, 11.5, 170),\n",
       "  (0.0, 0.0, 0.5, 49),\n",
       "  (0.047619047619047616, 0.5, 10.5, 47),\n",
       "  (0.1935483870967742, 3.0, 15.5, 185)],\n",
       " 'LeBron James': [(0.0, 0.0, 12.0, 0),\n",
       "  (0.0, 0.0, 24.0, 0),\n",
       "  (0.0, 0.0, 8.0, 0),\n",
       "  (0.0, 0.0, 14.5, 0),\n",
       "  (0.0, 0.0, 15.0, 0),\n",
       "  (0.0, 0.0, 25.5, 0),\n",
       "  (0.0, 0.0, 17.5, 0),\n",
       "  (0.0, 0.0, 11.0, 0),\n",
       "  (0.0, 0.0, 17.5, 0),\n",
       "  (0.0, 0.0, 9.5, 0),\n",
       "  (0.0, 0.0, 11.0, 0),\n",
       "  (0.0, 0.0, 11.5, 0),\n",
       "  (0.0, 0.0, 11.5, 0),\n",
       "  (0.0, 0.0, 0.5, 0),\n",
       "  (0.0, 0.0, 10.5, 0),\n",
       "  (0.0, 0.0, 15.5, 0)],\n",
       " 'Carmelo Anthony': [(0.0, 0.0, 12.0, 0),\n",
       "  (0.0, 0.0, 24.0, 0),\n",
       "  (0.375, 3.0, 8.0, 156),\n",
       "  (0.06896551724137931, 1.0, 14.5, 183),\n",
       "  (0.13333333333333333, 2.0, 15.0, 160),\n",
       "  (0.11764705882352941, 3.0, 25.5, 146),\n",
       "  (0.11428571428571428, 2.0, 17.5, 86),\n",
       "  (0.18181818181818182, 2.0, 11.0, 182),\n",
       "  (0.0, 0.0, 17.5, 0),\n",
       "  (0.0, 0.0, 9.5, 0),\n",
       "  (-0.18181818181818182, -2.0, 11.0, 153),\n",
       "  (0.0, 0.0, 11.5, 187),\n",
       "  (0.08695652173913043, 1.0, 11.5, 170),\n",
       "  (0.0, 0.0, 0.5, 73),\n",
       "  (0.0, 0.0, 10.5, 183),\n",
       "  (0.25806451612903225, 4.0, 15.5, 184)],\n",
       " 'Anthony Davis': [(0.3333333333333333, 4.0, 12.0, 176),\n",
       "  (0.20833333333333334, 5.0, 24.0, 172),\n",
       "  (0.4375, 3.5, 8.0, 189),\n",
       "  (0.13793103448275862, 2.0, 14.5, 85),\n",
       "  (0.0, 0.0, 15.0, 0),\n",
       "  (0.0, 0.0, 25.5, 0),\n",
       "  (0.11428571428571428, 2.0, 17.5, 140),\n",
       "  (-0.09090909090909091, -1.0, 11.0, 182),\n",
       "  (0.14285714285714285, 2.5, 17.5, 166),\n",
       "  (0.21052631578947367, 2.0, 9.5, 191),\n",
       "  (0.36363636363636365, 4.0, 11.0, 176),\n",
       "  (0.34782608695652173, 4.0, 11.5, 187),\n",
       "  (0.0, 0.0, 11.5, 0),\n",
       "  (2.0, 1.0, 0.5, 172),\n",
       "  (0.5714285714285714, 6.0, 10.5, 183),\n",
       "  (0.06451612903225806, 1.0, 15.5, 185)]}"
      ]
     },
     "execution_count": 7,
     "metadata": {},
     "output_type": "execute_result"
    }
   ],
   "source": [
    "df = pd.read_csv('../team-data/2021-2022_NBA_PbP_Logs/[2021-10-27]-0022100061-LAL@OKC.csv')\n",
    "player_stats, score_diff = calcPlayerStats(team, df)\n",
    "player_stats"
   ]
  },
  {
   "cell_type": "code",
   "execution_count": 8,
   "id": "3ec45699",
   "metadata": {},
   "outputs": [
    {
     "data": {
      "text/plain": [
       "{'Russell Westbrook': 0.13311916415766487,\n",
       " 'Malik Monk': 0.0879554326655694,\n",
       " 'LeBron James': 0.199416253024556,\n",
       " 'Carmelo Anthony': 0.07964585303623802,\n",
       " 'Anthony Davis': 0.1718479804282469}"
      ]
     },
     "execution_count": 8,
     "metadata": {},
     "output_type": "execute_result"
    }
   ],
   "source": [
    "with open(f'../team-data/average/{team}_average.pkl', 'rb') as file:\n",
    "        avg_stats = pickle.load(file)\n",
    "avg_stats"
   ]
  },
  {
   "cell_type": "code",
   "execution_count": 9,
   "id": "1903627b",
   "metadata": {},
   "outputs": [
    {
     "data": {
      "text/plain": [
       "{'Russell Westbrook': [2, 2, 0, 2, 2, 1, 0, 0, 2, 0, 0, 0, 2, 0, 2, 1],\n",
       " 'Malik Monk': [2, 0, 2, 2, 2, 1, 0, 0, 0, 1, 0, 0, 1, 0, 1, 2],\n",
       " 'LeBron James': [1, 1, 1, 1, 1, 1, 1, 1, 1, 1, 1, 1, 1, 1, 1, 1],\n",
       " 'Carmelo Anthony': [1, 1, 2, 1, 2, 1, 1, 2, 2, 2, 0, 0, 1, 0, 0, 2],\n",
       " 'Anthony Davis': [2, 1, 2, 1, 1, 1, 0, 0, 1, 1, 2, 2, 2, 2, 2, 0]}"
      ]
     },
     "execution_count": 9,
     "metadata": {},
     "output_type": "execute_result"
    }
   ],
   "source": [
    "Os = {p: [] for p in players}\n",
    "for p in players:\n",
    "    for val in player_stats[p]:\n",
    "        time_played = val[3]\n",
    "        if time_played > 0:\n",
    "            pie = val[0]\n",
    "            label = 0 if pie < avg_stats[p] - epsilon else 2 if pie > avg_stats[p] + epsilon else 1\n",
    "            Os[p].append(label)\n",
    "        else:\n",
    "            try:\n",
    "                Os[p].append(Os[p][-1])\n",
    "            except:\n",
    "                Os[p].append(1)\n",
    "Os"
   ]
  },
  {
   "cell_type": "code",
   "execution_count": 10,
   "id": "37512872",
   "metadata": {},
   "outputs": [
    {
     "data": {
      "text/plain": [
       "{'M': array([[0. , 0.3, 0.7],\n",
       "        [0.2, 0.6, 0.2],\n",
       "        [0.7, 0.3, 0. ]]),\n",
       " 'N': array([[0.8, 0.2, 0. ],\n",
       "        [0.1, 0.8, 0.1],\n",
       "        [0. , 0.2, 0.8]]),\n",
       " 'E': array([[0.7, 0.2, 0.1],\n",
       "        [0.1, 0.8, 0.1],\n",
       "        [0.1, 0.2, 0.7]]),\n",
       " 'R': {'Russell Westbrook': array([0.8, 0.2, 0. , 0. , 0. , 0. ]),\n",
       "  'Malik Monk': array([0.8, 0. , 0.2, 0. , 0. , 0. ]),\n",
       "  'LeBron James': array([0.8, 0. , 0. , 0.2, 0. , 0. ]),\n",
       "  'Carmelo Anthony': array([0.8, 0. , 0. , 0. , 0.2, 0. ]),\n",
       "  'Anthony Davis': array([0.8, 0. , 0. , 0. , 0. , 0.2])},\n",
       " 'name': 'synthetic-2261'}"
      ]
     },
     "execution_count": 10,
     "metadata": {},
     "output_type": "execute_result"
    }
   ],
   "source": [
    "with open(f'./profiles2/{team}_profile.pkl', 'rb') as file:\n",
    "    params = pickle.load(file)\n",
    "params"
   ]
  },
  {
   "cell_type": "code",
   "execution_count": 11,
   "id": "121e87e0",
   "metadata": {},
   "outputs": [],
   "source": [
    "def reconstruct_hidden(Os, M, N, E, R):    \n",
    "    delta = {p: dict() for p in players}\n",
    "    psi = {p: dict() for p in players}\n",
    "    for p in players:\n",
    "        delta[p][0] = np.array([0, 1, 0])\n",
    "        psi[p][0] = np.array([None, None, None])\n",
    "\n",
    "    for p in players:  \n",
    "        for t in range(1, T):\n",
    "            max_prev = np.array([np.max([delta[p][t-1][h_] * cond(p, h, h_, t, M, N, R) for h_ in H_symbols]) for h in H_symbols])\n",
    "            delta[p][t] = [E[h][Os[p][t]] * max_prev[h] for h in H_symbols]\n",
    "            psi[p][t] = np.array([np.argmax([delta[p][t-1][h_] * cond(p, h, h_, t, M, N, R) for h_ in H_symbols]) for h in H_symbols])\n",
    "\n",
    "    Hs_predicted = {p: [] for p in players}\n",
    "    for p in players:\n",
    "        h_final = np.argmax([delta[p][T-1][h] for h in H_symbols])\n",
    "        Hs_predicted[p] = [h_final]\n",
    "        h = psi[p][T-1][h_final]\n",
    "        for t in range(T-2, -1, -1):\n",
    "            Hs_predicted[p] = [h] + Hs_predicted[p]\n",
    "            h = psi[p][t][h]\n",
    "            \n",
    "    return Hs_predicted"
   ]
  },
  {
   "cell_type": "code",
   "execution_count": 12,
   "id": "0905a52e",
   "metadata": {},
   "outputs": [],
   "source": [
    "M = params['M']\n",
    "N = params['N']\n",
    "E = params['E']\n",
    "R = params['R']\n",
    "Hs_predicted = reconstruct_hidden(Os, M, N, E, R)"
   ]
  },
  {
   "cell_type": "code",
   "execution_count": 13,
   "id": "0d825cbe",
   "metadata": {},
   "outputs": [
    {
     "data": {
      "text/plain": [
       "{'Russell Westbrook': [1, 2, 2, 2, 2, 1, 0, 0, 0, 0, 0, 0, 0, 0, 2, 1],\n",
       " 'Malik Monk': [1, 0, 2, 2, 2, 1, 0, 0, 0, 0, 0, 0, 0, 0, 1, 2],\n",
       " 'LeBron James': [1, 1, 1, 1, 1, 1, 1, 1, 1, 1, 1, 1, 1, 1, 1, 1],\n",
       " 'Carmelo Anthony': [1, 1, 1, 1, 1, 1, 1, 2, 2, 2, 0, 0, 0, 0, 0, 2],\n",
       " 'Anthony Davis': [1, 1, 1, 1, 1, 1, 0, 0, 1, 1, 2, 2, 2, 2, 2, 0]}"
      ]
     },
     "execution_count": 13,
     "metadata": {},
     "output_type": "execute_result"
    }
   ],
   "source": [
    "Hs_predicted"
   ]
  },
  {
   "cell_type": "code",
   "execution_count": 14,
   "id": "ce3f2700",
   "metadata": {},
   "outputs": [],
   "source": [
    "team_state = list(zip(*[Hs_predicted[p] for p in players]))\n",
    "team_state = [sum(states) for states in team_state]"
   ]
  },
  {
   "cell_type": "code",
   "execution_count": 15,
   "id": "f57a7f51",
   "metadata": {},
   "outputs": [
    {
     "data": {
      "text/plain": [
       "[5, 5, 7, 7, 7, 5, 2, 3, 4, 4, 3, 3, 3, 3, 6, 6]"
      ]
     },
     "execution_count": 15,
     "metadata": {},
     "output_type": "execute_result"
    }
   ],
   "source": [
    "team_state"
   ]
  },
  {
   "cell_type": "code",
   "execution_count": 16,
   "id": "b080748f",
   "metadata": {},
   "outputs": [
    {
     "data": {
      "image/png": "[encoded data removed]",
      "text/plain": [
       "<Figure size 640x480 with 2 Axes>"
      ]
     },
     "metadata": {},
     "output_type": "display_data"
    }
   ],
   "source": [
    "team_state = list(zip(*[Hs_predicted[p] for p in players]))\n",
    "team_state = np.array([sum(states) for states in team_state])\n",
    "\n",
    "N = len(team_state)\n",
    "fig, ax1 = plt.subplots()\n",
    "\n",
    "ax1.plot(range(1, N+1), team_state / 5 - 1, marker='o', linestyle='-', label = 'team state')\n",
    "ax1.set_xlabel('Window')\n",
    "ax1.set_ylabel('Team state')\n",
    "ax1.legend(loc='upper right')\n",
    "\n",
    "ax2 = ax1.twinx()\n",
    "ax2.plot(range(1, N+1), score_diff, marker='D', linestyle='-', color='green', label='PTS +/-')\n",
    "ax2.set_ylabel('PTS +/-')\n",
    "ax2.legend()\n",
    "ax2.legend_.set_bbox_to_anchor((0.95, 0.92))\n",
    "\n",
    "\n",
    "plt.savefig(f'./team-collapse-games/LAL@OKC.pdf', format='pdf', bbox_inches='tight')\n",
    "plt.show()"
   ]
  },
  {
   "cell_type": "code",
   "execution_count": null,
   "id": "eb7964a6",
   "metadata": {},
   "outputs": [],
   "source": []
  }
 ],
 "metadata": {
  "kernelspec": {
   "display_name": "Python 3 (ipykernel)",
   "language": "python",
   "name": "python3"
  },
  "language_info": {
   "codemirror_mode": {
    "name": "ipython",
    "version": 3
   },
   "file_extension": ".py",
   "mimetype": "text/x-python",
   "name": "python",
   "nbconvert_exporter": "python",
   "pygments_lexer": "ipython3",
   "version": "3.10.12"
  }
 },
 "nbformat": 4,
 "nbformat_minor": 5
}
