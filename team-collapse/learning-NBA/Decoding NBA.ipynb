{
 "cells": [
  {
   "cell_type": "code",
   "execution_count": 1,
   "id": "64f6db6b",
   "metadata": {},
   "outputs": [],
   "source": [
    "import pickle\n",
    "import numpy as np\n",
    "import cvxpy as cp\n",
    "import matplotlib.pyplot as plt\n",
    "import copy"
   ]
  },
  {
   "cell_type": "code",
   "execution_count": 2,
   "id": "305f592c",
   "metadata": {},
   "outputs": [],
   "source": [
    "teams = ['BKN', 'MIL', 'GSW', 'LAL', 'IND', 'CHA', 'CHI', 'DET',\n",
    "          'WAS', 'TOR', 'BOS', 'NYK', 'CLE', 'MEM', 'PHI', 'NOP',\n",
    "          'HOU','MIN', 'ORL', 'SAS', 'OKC', 'UTA', 'SAC', 'POR',\n",
    "          'DEN', 'PHX', 'DAL', 'ATL', 'MIA', 'LAC']\n",
    "window = 4 # 4 samples per game (one sample / quarter)"
   ]
  },
  {
   "cell_type": "code",
   "execution_count": 3,
   "id": "0050e004",
   "metadata": {},
   "outputs": [],
   "source": [
    "N_players = 5\n",
    "players = [f'player{i}' for i in range(1, N_players+1)]\n",
    "n_components = 3 # num of hidden states\n",
    "n_features = 3 # num of observed states\n",
    "O_symbols = [0, 1, 2] # under-, avg-, over- performance\n",
    "H_symbols = [0, 1, 2] # corresponding mental states\n",
    "T = 100\n",
    "learning_iterations = 100"
   ]
  },
  {
   "cell_type": "code",
   "execution_count": 4,
   "id": "df8438d7",
   "metadata": {},
   "outputs": [],
   "source": [
    "# === M ===\n",
    "avg_transO = np.array([[0.5, 0.3, 0.2],\n",
    "                       [0.25, 0.5, 0.25],\n",
    "                       [0.2, 0.3, 0.5]])\n",
    "\n",
    "star_transO = np.array([[0.7, 0.3, 0],\n",
    "                        [0.1, 0.8, 0.1],\n",
    "                        [0, 0.3, 0.7]])\n",
    "# === N ===\n",
    "avg_transH = np.array([[0.8, 0.2, 0.0],\n",
    "                       [0.1, 0.8, 0.1],\n",
    "                       [0.0, 0.2, 0.8]])\n",
    "\n",
    "# === emission_prob ===\n",
    "avg_emission = np.array([[0.7, 0.3, 0],\n",
    "                       [0.1, 0.8, 0.1],\n",
    "                       [0.0, 0.3, 0.7]])\n",
    "\n",
    "# ===  R ===\n",
    "R_singleH = np.array([1] + [0] * len(players))\n",
    "def R_singleHO(player):\n",
    "    i = int(player[-1])\n",
    "    arr = [0] * (len(players)+1)\n",
    "    arr[0] = 0.7\n",
    "    arr[i] = 0.3\n",
    "    return np.array(arr)\n",
    "\n",
    "def R_singleO(player):\n",
    "    i = int(player[-1])\n",
    "    arr = [0] * (len(players)+1)\n",
    "    arr[i] = 1\n",
    "    return np.array(arr)\n",
    "\n",
    "def R_star(player, star):\n",
    "    if player == star:\n",
    "        return R_singleH\n",
    "    arr = [0] * (len(players)+1)\n",
    "    i = int(star[-1])\n",
    "    arr[i] = 1\n",
    "    return np.array(arr)\n",
    "    \n",
    "R_uniform = np.array([1/(1 + len(players))] * (len(players) + 1))"
   ]
  },
  {
   "cell_type": "code",
   "execution_count": 5,
   "id": "033e07c9",
   "metadata": {},
   "outputs": [],
   "source": [
    "M = star_transO\n",
    "N = avg_transH\n",
    "E = avg_emission\n",
    "R = {player: R_star(player, 'player1') for player in players}\n",
    "initial_dist = np.array([0, 1, 0])"
   ]
  },
  {
   "cell_type": "code",
   "execution_count": 35,
   "id": "ba76fc3c",
   "metadata": {},
   "outputs": [],
   "source": [
    "team = 'DAL'\n",
    "observations = dict()\n",
    "\n",
    "with open(f'../team-data/observations/{team}_observations.pickle', 'rb') as file:\n",
    "    observations = pickle.load(file)"
   ]
  },
  {
   "cell_type": "code",
   "execution_count": 36,
   "id": "cd467b09",
   "metadata": {},
   "outputs": [],
   "source": [
    "def cond(player, h1, h2, t, M_, N_, R_): # P(H_t^player = h1 | H_{t-1}^player = h2, O_{t-1})    \n",
    "    # Requires M_, N_, R_, Os\n",
    "    v = [N_[h2][h1]]\n",
    "    for teammate in players:\n",
    "        v.append(M_[Os[teammate][t-1]][h1])\n",
    "            \n",
    "    v = np.array(v)\n",
    "    return np.dot(R_[player], v) "
   ]
  },
  {
   "cell_type": "code",
   "execution_count": 37,
   "id": "7d828132",
   "metadata": {},
   "outputs": [],
   "source": [
    "def reconstruct_hidden(Os, M, N, E, R):    \n",
    "    delta = {p: dict() for p in players}\n",
    "    psi = {p: dict() for p in players}\n",
    "    for p in players:\n",
    "        delta[p][0] = np.array([0, 1, 0])\n",
    "        psi[p][0] = np.array([None, None, None])\n",
    "\n",
    "    for p in players:  \n",
    "        for t in range(1, T):\n",
    "            max_prev = np.array([np.max([delta[p][t-1][h_] * cond(p, h, h_, t, M, N, R) for h_ in H_symbols]) for h in H_symbols])\n",
    "            delta[p][t] = [E[h][Os[p][t]] * max_prev[h] for h in H_symbols]\n",
    "            psi[p][t] = np.array([np.argmax([delta[p][t-1][h_] * cond(p, h, h_, t, M, N, R) for h_ in H_symbols]) for h in H_symbols])\n",
    "\n",
    "    Hs_predicted = {p: [] for p in players}\n",
    "    for p in players:\n",
    "        h_final = np.argmax([delta[p][T-1][h] for h in H_symbols])\n",
    "        Hs_predicted[p] = [h_final]\n",
    "        h = psi[p][T-1][h_final]\n",
    "        for t in range(T-2, -1, -1):\n",
    "            Hs_predicted[p] = [h] + Hs_predicted[p]\n",
    "            h = psi[p][t][h]\n",
    "            \n",
    "    return Hs_predicted"
   ]
  },
  {
   "cell_type": "code",
   "execution_count": 38,
   "id": "8104fe01",
   "metadata": {},
   "outputs": [
    {
     "name": "stdout",
     "output_type": "stream",
     "text": [
      "{'M': array([[0.6, 0.3, 0.1],\n",
      "       [0.2, 0.6, 0.2],\n",
      "       [0.1, 0.3, 0.6]]), 'N': array([[0.9, 0.1, 0. ],\n",
      "       [0.1, 0.8, 0.1],\n",
      "       [0. , 0.1, 0.9]]), 'E': array([[0.7, 0.2, 0.1],\n",
      "       [0.1, 0.8, 0.1],\n",
      "       [0.1, 0.2, 0.7]]), 'R': {'Luka Doncic': array([0.16666667, 0.16666667, 0.16666667, 0.16666667, 0.16666667,\n",
      "       0.16666667]), 'Jalen Brunson': array([0.16666667, 0.16666667, 0.16666667, 0.16666667, 0.16666667,\n",
      "       0.16666667]), 'Reggie Bullock': array([0.16666667, 0.16666667, 0.16666667, 0.16666667, 0.16666667,\n",
      "       0.16666667]), 'Dorian Finney-Smith': array([0.16666667, 0.16666667, 0.16666667, 0.16666667, 0.16666667,\n",
      "       0.16666667]), 'Dwight Powell': array([0.16666667, 0.16666667, 0.16666667, 0.16666667, 0.16666667,\n",
      "       0.16666667])}, 'name': 'synthetic-338'}\n"
     ]
    }
   ],
   "source": [
    "with open(f'./profiles/{team}_profile.pkl', 'rb') as file:\n",
    "        params = pickle.load(file)\n",
    "print(params)\n",
    "M, N, E, R = params['M'], params['N'], params['E'], params['R']\n",
    "k = list(observations.keys())[0]\n",
    "players = list(observations[k].keys())\n",
    "\n",
    "Os = {p: [] for p in players}\n",
    "for game_id in observations:\n",
    "    game_stats = observations[game_id]\n",
    "    for p in players:\n",
    "        Os[p].extend(game_stats[p])\n",
    "\n",
    "Hs_predicted = reconstruct_hidden(Os, M, N, E, R)"
   ]
  },
  {
   "cell_type": "code",
   "execution_count": 40,
   "id": "a59d1009",
   "metadata": {},
   "outputs": [],
   "source": [
    "def find_timestamps(timeseries):\n",
    "    # Find timestamps of team collapse (ingore continuous 0, only consider the time of the first 0)\n",
    "    indices = np.where(timeseries < 2)[0]\n",
    "    if not indices.any():\n",
    "        return []\n",
    "    \n",
    "    timestamps = [indices[0]]\n",
    "    for i in range(1, len(indices)): # remove contiguous indices\n",
    "        if indices[i] != indices[i-1] + 1:\n",
    "            timestamps.append(indices[i])\n",
    "    return timestamps"
   ]
  },
  {
   "cell_type": "code",
   "execution_count": 43,
   "id": "52e78d73",
   "metadata": {},
   "outputs": [],
   "source": [
    "Hs_team_predicted = np.array([sum(states) for states in list(zip(*[Hs_predicted[p] for p in players]))])"
   ]
  },
  {
   "cell_type": "code",
   "execution_count": 44,
   "id": "e9935b21",
   "metadata": {},
   "outputs": [
    {
     "data": {
      "text/plain": [
       "[3, 82]"
      ]
     },
     "execution_count": 44,
     "metadata": {},
     "output_type": "execute_result"
    }
   ],
   "source": [
    "find_timestamps(Hs_team_predicted)"
   ]
  },
  {
   "cell_type": "code",
   "execution_count": 26,
   "id": "fda05944",
   "metadata": {},
   "outputs": [],
   "source": [
    "Os_DAL = Os_teams[team]"
   ]
  },
  {
   "cell_type": "code",
   "execution_count": 30,
   "id": "13b20a9d",
   "metadata": {},
   "outputs": [
    {
     "data": {
      "text/plain": [
       "dict_keys(['0022100014', '0022100029', '0022100052', '0022100069', '0022100075', '0022100089', '0022100104', '0022100116', '0022100136', '0022100150', '0022100163', '0022100181', '0022100204', '0022100222', '0022100237', '0022100248', '0022100266', '0022100298', '0022100310', '0022100325', '0022100338', '0022100345', '0022100363', '0022100373', '0022100383', '0022100400', '0022100410', '0022100420', '0022100455', '0022100468', '0022100481', '0022100492', '0022100506', '0022100524', '0022100531', '0022100550', '0022100558', '0022100572', '0022100586', '0022100603', '0022100622', '0022100639', '0022100650', '0022100663', '0022100675', '0022100682', '0022100705', '0022100720', '0022100732', '0022100746', '0022100755', '0022100778', '0022100791', '0022100807', '0022100820', '0022100835', '0022100853', '0022100868', '0022100886', '0022100903', '0022100917', '0022100931', '0022100943', '0022100954', '0022100972', '0022100988', '0022100999', '0022101014', '0022101036', '0022101046', '0022101059', '0022101079', '0022101092', '0022101104', '0022101121', '0022101134', '0022101136', '0022101152', '0022101167', '0022101190', '0022101209', '0022101219', '0042100171', '0042100172', '0042100173', '0042100174', '0042100175', '0042100176', '0042100221', '0042100222', '0042100223', '0042100224', '0042100225', '0042100226', '0042100227', '0042100311', '0042100312', '0042100313', '0042100314', '0042100315'])"
      ]
     },
     "execution_count": 30,
     "metadata": {},
     "output_type": "execute_result"
    }
   ],
   "source": [
    "Os_DAL.keys()"
   ]
  },
  {
   "cell_type": "code",
   "execution_count": 33,
   "id": "eb33f221",
   "metadata": {},
   "outputs": [
    {
     "data": {
      "text/plain": [
       "{'Luka Doncic': [2, 0, 1, 1],\n",
       " 'Jalen Brunson': [1, 2, 2, 1],\n",
       " 'Reggie Bullock': [2, 2, 1, 1],\n",
       " 'Dorian Finney-Smith': [2, 1, 1, 0],\n",
       " 'Dwight Powell': [1, 1, 1, 0]}"
      ]
     },
     "execution_count": 33,
     "metadata": {},
     "output_type": "execute_result"
    }
   ],
   "source": [
    "Os_DAL['0042100312']"
   ]
  },
  {
   "cell_type": "code",
   "execution_count": null,
   "id": "1d607243",
   "metadata": {},
   "outputs": [],
   "source": []
  },
  {
   "cell_type": "code",
   "execution_count": null,
   "id": "16ab87c5",
   "metadata": {},
   "outputs": [],
   "source": []
  },
  {
   "cell_type": "code",
   "execution_count": null,
   "id": "8a529319",
   "metadata": {},
   "outputs": [],
   "source": []
  },
  {
   "cell_type": "code",
   "execution_count": null,
   "id": "834c1197",
   "metadata": {},
   "outputs": [],
   "source": []
  },
  {
   "cell_type": "code",
   "execution_count": null,
   "id": "908be43e",
   "metadata": {},
   "outputs": [],
   "source": []
  },
  {
   "cell_type": "code",
   "execution_count": null,
   "id": "17c0e6e7",
   "metadata": {},
   "outputs": [],
   "source": []
  }
 ],
 "metadata": {
  "kernelspec": {
   "display_name": "Python 3 (ipykernel)",
   "language": "python",
   "name": "python3"
  },
  "language_info": {
   "codemirror_mode": {
    "name": "ipython",
    "version": 3
   },
   "file_extension": ".py",
   "mimetype": "text/x-python",
   "name": "python",
   "nbconvert_exporter": "python",
   "pygments_lexer": "ipython3",
   "version": "3.10.12"
  }
 },
 "nbformat": 4,
 "nbformat_minor": 5
}
