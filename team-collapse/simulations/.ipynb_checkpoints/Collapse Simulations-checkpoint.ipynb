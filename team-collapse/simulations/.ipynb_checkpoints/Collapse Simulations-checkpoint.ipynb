{
 "cells": [
  {
   "cell_type": "code",
   "execution_count": 1,
   "id": "b7ff4551",
   "metadata": {},
   "outputs": [],
   "source": [
    "import pickle\n",
    "import numpy as np\n",
    "import cvxpy as cp\n",
    "import matplotlib.pyplot as plt\n",
    "import seaborn as sns"
   ]
  },
  {
   "cell_type": "code",
   "execution_count": 2,
   "id": "fbffa9d3",
   "metadata": {},
   "outputs": [],
   "source": [
    "N_players = 5\n",
    "players = [f'player{i}' for i in range(1, N_players+1)]\n",
    "n_components = 3 # num of hidden states\n",
    "n_features = 3 # num of observed states\n",
    "O_symbols = [0, 1, 2] # under-, avg-, over- performance\n",
    "H_symbols = [0, 1, 2] # corresponding mental states\n",
    "T = 1000\n",
    "N_samples = 100 # Samples per simulated run"
   ]
  },
  {
   "cell_type": "code",
   "execution_count": 3,
   "id": "714788fb",
   "metadata": {},
   "outputs": [],
   "source": [
    "np.random.seed(42)\n",
    "plot_folder = './plots/'"
   ]
  },
  {
   "cell_type": "code",
   "execution_count": 4,
   "id": "533a686c",
   "metadata": {},
   "outputs": [],
   "source": [
    "class TeamModel:\n",
    "    def __init__(self, name, initial_dist, M, N, R, emission_prob):\n",
    "        self.name = name\n",
    "        \n",
    "        self.initial_dist = initial_dist\n",
    "        \n",
    "        # Transition matrices\n",
    "        self.M = M # dictionary. key = player, value = a row-stochastic matrix, observation-to-state transitions\n",
    "        self.N = N # dictionary. key = player, value = a row-stochastic matrix, state-to-state transitions\n",
    "        \n",
    "        # Graph weights - Tie strengh\n",
    "        self.R = R # row-stochastic matrix\n",
    "        \n",
    "        # Emission matrices\n",
    "        self.emission_prob = emission_prob # for each player, a row-stochastic matrix\n",
    "        \n",
    "        # Store latest hidden and observed states\n",
    "        self.H = None\n",
    "        self.O = None\n",
    "    \n",
    "        self.t = 0\n",
    "   \n",
    "    def check_input_parameters(self):\n",
    "        pass\n",
    "    \n",
    "    def next(self):\n",
    "        if self.t == 0:\n",
    "            self.H = {p: np.random.choice(H_symbols, p=self.initial_dist) for p in players}\n",
    "            self.O = {p: np.random.choice(O_symbols, p=self.emission_prob[p][self.H[p]]) for p in players}\n",
    "            self.t = 1\n",
    "            \n",
    "            return self.H, self.O\n",
    "            \n",
    "        H_new = {}\n",
    "        O_new = {}\n",
    "        for p in players:\n",
    "            R_ = self.R[p]\n",
    "            emission_ = self.emission_prob[p]\n",
    "            \n",
    "            # produce next hidden state\n",
    "            dist = []\n",
    "            for h in H_symbols: # calculate the probability of each next state h\n",
    "                v = []\n",
    "                v.append(self.N[p][self.H[p]][h]) # P(H_t^player = h | H__{t-1}^player = H[player])\n",
    "                for teammate in players:\n",
    "                    v.append(self.M[(p, teammate)][self.O[teammate]][h]) # P(H_t^player = h | O_{t-1}^teammate = O[teammate])\n",
    "\n",
    "                v = np.array(v)\n",
    "                \n",
    "                dist.append(np.dot(R_, v))\n",
    "            \n",
    "            h_new = np.random.choice(H_symbols, p=dist)\n",
    "            \n",
    "            # produce next observation\n",
    "            o_new = np.random.choice(O_symbols, p=emission_[h_new])\n",
    "            \n",
    "            # Add new values to\n",
    "            H_new[p] = h_new\n",
    "            O_new[p] = o_new\n",
    "            \n",
    "        # Update hidden and observed states\n",
    "        self.H = H_new\n",
    "        self.O = O_new\n",
    "        \n",
    "        # Update time\n",
    "        self.t += 1\n",
    "        \n",
    "        return H_new, O_new\n",
    "    \n",
    "    def get_data(self, T = 1000):\n",
    "        # T = number of observations (i.e. number of iterations)\n",
    "        self.restart()\n",
    "        data = []\n",
    "        for _ in range(T):\n",
    "            H, O = self.next()\n",
    "            data.append((H, O))\n",
    "        return data\n",
    "    \n",
    "    def restart(self):\n",
    "        self.H = None\n",
    "        self.O = None\n",
    "        self.t = 0"
   ]
  },
  {
   "cell_type": "code",
   "execution_count": 5,
   "id": "5899053d",
   "metadata": {},
   "outputs": [],
   "source": [
    "def countTeamCollapses(Hs):\n",
    "    state_hist = list(zip(*[Hs[p] for p in players]))\n",
    "    cnt = state_hist.count(tuple([0 for p in players]))\n",
    "#     cnt = sum([1 for states in state_hist if sum(states) <= 2])\n",
    "    return cnt\n",
    "\n",
    "def teamHasCollapsed(states):\n",
    "    return sum(states) == 0 # all players have collapsed\n",
    "\n",
    "def teamState(states):\n",
    "    return sum(states)"
   ]
  },
  {
   "cell_type": "code",
   "execution_count": 6,
   "id": "15831ad2",
   "metadata": {},
   "outputs": [],
   "source": [
    "def produce(model, T): # produce T timeseries samples (each of N_samples points) from the model \n",
    "    data = []\n",
    "    data = model.get_data(T)\n",
    "\n",
    "    # Store data\n",
    "    observations = {player: [] for player in players}\n",
    "    true_hidden = {player: [] for player in players}\n",
    "    for (h, o) in data:\n",
    "        for player in players:\n",
    "            true_hidden[player].append(h[player])\n",
    "            observations[player].append(o[player])\n",
    "\n",
    "    for player in players:\n",
    "        observations[player] = np.array(observations[player])\n",
    "        true_hidden[player] = np.array(true_hidden[player])\n",
    "        \n",
    "    return observations, true_hidden"
   ]
  },
  {
   "cell_type": "code",
   "execution_count": 7,
   "id": "5e123333",
   "metadata": {},
   "outputs": [],
   "source": [
    "# === M ===\n",
    "avg_transO = np.array([[0.5, 0.3, 0.2],\n",
    "                       [0.25, 0.5, 0.25],\n",
    "                       [0.2, 0.3, 0.5]])\n",
    "\n",
    "star_transO = np.array([[0.8, 0.2, 0],\n",
    "                        [0.1, 0.8, 0.1],\n",
    "                       [0, 0.2, 0.8]])\n",
    "\n",
    "anti_dependent_transO = np.array([[0, 0.2, 0.8],\n",
    "                                 [0.1, 0.8, 0.1],\n",
    "                                 [0.8, 0.2, 0]])\n",
    "# === N ===\n",
    "avg_transH = np.array([[0.8, 0.2, 0.0],\n",
    "                       [0.1, 0.8, 0.1],\n",
    "                       [0.0, 0.2, 0.8]])\n",
    "\n",
    "# === emission_prob ===\n",
    "avg_emission = np.array([[0.8, 0.2, 0.0],\n",
    "                       [0.1, 0.8, 0.1],\n",
    "                       [0.0, 0.2, 0.8]])\n",
    "\n",
    "star_emission = np.array([[0.7, 0.3, 0.0],\n",
    "                        [0.1, 0.8, 0.1],\n",
    "                        [0.0, 0.1, 0.9]])\n",
    "\n",
    "# ===  R ===\n",
    "R_singleH = np.array([1] + [0] * len(players))\n",
    "def R_singleHO(player):\n",
    "    i = int(player[-1])\n",
    "    arr = [0] * (len(players)+1)\n",
    "    arr[0] = 0.8\n",
    "    arr[i] = 0.2\n",
    "    return np.array(arr)\n",
    "\n",
    "def R_star(player, star):\n",
    "    if player == star:\n",
    "        return R_singleH\n",
    "    arr = [0] * (len(players)+1)\n",
    "    i = int(star[-1])\n",
    "    arr[i] = 1\n",
    "    return np.array(arr)\n",
    "\n",
    "def R_star_plus_hidden(player, star):\n",
    "    if player == star:\n",
    "        return R_singleH\n",
    "    arr = [0] * (len(players)+1)\n",
    "    i = int(star[-1])\n",
    "    arr[i] = 0.5\n",
    "    arr[0] = 0.5\n",
    "    return np.array(arr)\n",
    "\n",
    "def R_two_stars(player, star1, star2):\n",
    "    if player == star1 or player == star2:\n",
    "        return R_singleH\n",
    "    arr = [0] * (len(players)+1)\n",
    "    i = int(star1[-1])\n",
    "    j = int(star2[-1])\n",
    "    arr[i] = 0.5\n",
    "    arr[j] = 0.5\n",
    "    return np.array(arr)\n",
    "\n",
    "def R_two_stars_plus_hidden(player, star1, star2):\n",
    "    if player == star1 or player == star2:\n",
    "        return R_singleH\n",
    "    arr = [0] * (len(players)+1)\n",
    "    i = int(star1[-1])\n",
    "    j = int(star2[-1])\n",
    "    arr[i] = 0.25\n",
    "    arr[j] = 0.25\n",
    "    arr[0] = 0.5\n",
    "    return np.array(arr)\n",
    "    \n",
    "R_uniform = np.array([1/(1 + len(players))] * (len(players) + 1))"
   ]
  },
  {
   "cell_type": "code",
   "execution_count": 8,
   "id": "600d4a9f",
   "metadata": {},
   "outputs": [],
   "source": [
    "observed_states = dict()\n",
    "hidden_states = dict()\n",
    "\n",
    "team_states = dict()\n",
    "team_observations = dict()\n",
    "\n",
    "res = dict()\n",
    "hidden_collapse_time = dict()\n",
    "observed_collapse_time = dict()\n",
    "\n",
    "zone4_6_hidden = dict()\n",
    "zone4_6_observed = dict()\n",
    "zone3_7_hidden = dict()\n",
    "zone3_7_observed = dict()\n",
    "zone5_10_hidden = dict()\n",
    "zone5_10_observed = dict()\n",
    "zone0_5_hidden = dict()\n",
    "zone0_5_observed = dict()\n",
    "zone0_2_hidden = dict()\n",
    "zone0_2_observed = dict()\n",
    "zone8_10_hidden = dict()\n",
    "zone8_10_observed = dict()\n",
    "\n",
    "def generate_data(model):\n",
    "    name = model.name\n",
    "    observed_states[name] = dict()\n",
    "    hidden_states[name] = dict()\n",
    "    team_states[name] = dict()\n",
    "    team_observations[name] = dict()\n",
    "    \n",
    "    for t in range(T):\n",
    "        observed_states[name][t], hidden_states[name][t] = produce(model, N_samples)\n",
    "        \n",
    "        # Team cumulative hidden states and observations\n",
    "        state_hist = list(zip(*[hidden_states[name][t][p] for p in players]))\n",
    "        observed_hist = list(zip(*[observed_states[name][t][p] for p in players]))\n",
    "        team_states[name][t] = np.array([sum(states) for states in state_hist])\n",
    "        team_observations[name][t] = np.array([sum(states) for states in observed_hist])\n",
    "        \n",
    "def calculate_stats(model):\n",
    "    name = model.name\n",
    "    \n",
    "    Os = observed_states[name]\n",
    "    Hs = hidden_states[name]\n",
    "    \n",
    "    res[name] = 0\n",
    "    for t in range(T):\n",
    "        res[name] += countTeamCollapses(Hs[t])\n",
    "        \n",
    "    hidden_collapse_time[name] = average_length_contiguous(team_states[name], lambda x : x == 0)\n",
    "    observed_collapse_time[name] = average_length_contiguous(team_observations[name], lambda x: x == 0)\n",
    "    \n",
    "    zone4_6_hidden[name] = average_length_contiguous(team_states[name], lambda x : x >= 4 and x <= 6)\n",
    "    zone4_6_observed[name] = average_length_contiguous(team_observations[name], lambda x : x > 4 and x <= 6)\n",
    "    \n",
    "    zone3_7_hidden[name] = average_length_contiguous(team_states[name], lambda x : x >= 3 and x <= 7)\n",
    "    zone3_7_observed[name] = average_length_contiguous(team_observations[name], lambda x : x >= 3 and x <= 7)\n",
    "    \n",
    "    zone5_10_hidden[name] = average_length_contiguous(team_states[name], lambda x : x > 5 and x <= 10)\n",
    "    zone5_10_observed[name] = average_length_contiguous(team_observations[name], lambda x : x > 5 and x <= 10)\n",
    "    \n",
    "    zone0_5_hidden[name] = average_length_contiguous(team_states[name], lambda x : x >= 0 and x < 5)\n",
    "    zone0_5_observed[name] = average_length_contiguous(team_observations[name], lambda x : x >= 0 and x <= 5)\n",
    "    \n",
    "    zone0_2_hidden[name] = average_length_contiguous(team_states[name], lambda x : x >= 0 and x <= 2)\n",
    "    zone0_2_observed[name] = average_length_contiguous(team_observations[name], lambda x : x >= 0 and x <= 2)\n",
    "    \n",
    "    zone8_10_hidden[name] = average_length_contiguous(team_states[name], lambda x : x >= 8 and x <= 10)\n",
    "    zone8_10_observed[name] = average_length_contiguous(team_observations[name], lambda x : x >= 8 and x <= 10)\n",
    "    \n",
    "    time_series_arrays = list(team_states[name].values())\n",
    "    \n",
    "    # Hidden states stats\n",
    "    # Calculate average, min, and max time series\n",
    "    avg_series = np.mean(time_series_arrays, axis=0)\n",
    "    min_series = np.min(time_series_arrays, axis=0)\n",
    "    max_series = np.max(time_series_arrays, axis=0)\n",
    "    \n",
    "    # Calculate percentiles for shading\n",
    "    perc_25 = np.percentile(time_series_arrays, 25, axis=0)\n",
    "    perc_75 = np.percentile(time_series_arrays, 75, axis=0)\n",
    "    \n",
    "    # Observed states stats\n",
    "    time_series_arrays = list(team_observations[name].values())\n",
    "    avg_observed_series = np.mean(time_series_arrays, axis=0)\n",
    "\n",
    "    \n",
    "    return avg_series, min_series, max_series, perc_25, perc_75, avg_observed_series\n",
    "\n",
    "def plot_team_state(model):\n",
    "    name = model.name\n",
    "    \n",
    "    avg_series, min_series, max_series, perc_25, perc_75, avg_observed_series = calculate_stats(model)\n",
    "    \n",
    "    # Center at 0 and divide with 5 to obtain average\n",
    "    avg_series = avg_series / 5 - 1\n",
    "    min_series = min_series / 5 - 1\n",
    "    max_series = max_series / 5 - 1\n",
    "    perc_25 = perc_25 / 5 - 1\n",
    "    perc_75 = perc_75 / 5 - 1\n",
    "    avg_observed_series = avg_observed_series / 5 - 1\n",
    "    \n",
    "    # Plot average line\n",
    "    sns.lineplot(data=avg_series, color='red', label='Average Hidden')\n",
    "    \n",
    "    # Fill area between average and min\n",
    "    plt.fill_between(range(N_samples), avg_series, min_series, color='green', alpha=0.3)\n",
    "\n",
    "    # Fill area between average and max\n",
    "    plt.fill_between(range(N_samples), avg_series, max_series, color='green', alpha=0.3)\n",
    "    \n",
    "    # Fill area between average and 33rd percentile with gradient color\n",
    "    plt.fill_between(range(N_samples), avg_series, perc_25, color='green', alpha=0.5)\n",
    "\n",
    "    # Fill area between average and 66th percentile with gradient color\n",
    "    plt.fill_between(range(N_samples), avg_series, perc_75, color='green', alpha=0.5)\n",
    "   \n",
    "    # Plot average observed line\n",
    "    sns.lineplot(data=avg_observed_series, color='orange', label='Average Observed')\n",
    "\n",
    "#     plt.title(f'Average, min, and max team state for {name}')\n",
    "    plt.xlabel('Time')\n",
    "    plt.ylabel('Team state')\n",
    "    plt.legend()\n",
    "    plt.savefig(f'{plot_folder}/team_state_{name}.pdf', format='pdf', bbox_inches='tight')\n",
    "    \n",
    "    plt.show()"
   ]
  },
  {
   "cell_type": "code",
   "execution_count": 9,
   "id": "ab16515a",
   "metadata": {},
   "outputs": [],
   "source": [
    "def average_length_contiguous(timeseries_dict, f): # f : Int -> Bool\n",
    "    lengths = []\n",
    "\n",
    "    for key, series in timeseries_dict.items():\n",
    "        zero_lengths = []\n",
    "        current_length = 0\n",
    "        for value in series:\n",
    "            if f(value):\n",
    "                current_length += 1\n",
    "            else:\n",
    "                if current_length > 0:\n",
    "                    zero_lengths.append(current_length)\n",
    "                    current_length = 0\n",
    "        if current_length > 0:\n",
    "            zero_lengths.append(current_length)\n",
    "            \n",
    "        lengths += zero_lengths\n",
    "    \n",
    "    lengths = np.array(lengths)\n",
    "\n",
    "    return lengths"
   ]
  },
  {
   "cell_type": "code",
   "execution_count": 10,
   "id": "8e62eff9",
   "metadata": {},
   "outputs": [],
   "source": [
    "models = []"
   ]
  },
  {
   "cell_type": "markdown",
   "id": "56061391",
   "metadata": {},
   "source": [
    "## Single Hidden"
   ]
  },
  {
   "cell_type": "code",
   "execution_count": 11,
   "id": "d5a1c19a",
   "metadata": {},
   "outputs": [
    {
     "data": {
      "text/plain": [
       "{'player1': array([1, 0, 0, 0, 0, 0]),\n",
       " 'player2': array([1, 0, 0, 0, 0, 0]),\n",
       " 'player3': array([1, 0, 0, 0, 0, 0]),\n",
       " 'player4': array([1, 0, 0, 0, 0, 0]),\n",
       " 'player5': array([1, 0, 0, 0, 0, 0])}"
      ]
     },
     "execution_count": 11,
     "metadata": {},
     "output_type": "execute_result"
    }
   ],
   "source": [
    "M = {(p1, p2): avg_transO for p1 in players for p2 in players}\n",
    "N = {player: avg_transH for player in players}\n",
    "emission_prob = {player: avg_emission for player in players}\n",
    "R = {player: R_singleH for player in players}\n",
    "initial_dist = np.array([0, 1, 0])\n",
    "\n",
    "model = TeamModel('H', initial_dist, M, N, R, emission_prob)\n",
    "models.append(model)\n",
    "R"
   ]
  },
  {
   "cell_type": "markdown",
   "id": "4c963b06",
   "metadata": {},
   "source": [
    "## Single Hidden + Observed"
   ]
  },
  {
   "cell_type": "code",
   "execution_count": 12,
   "id": "845fb285",
   "metadata": {},
   "outputs": [
    {
     "data": {
      "text/plain": [
       "{'player1': array([0.8, 0.2, 0. , 0. , 0. , 0. ]),\n",
       " 'player2': array([0.8, 0. , 0.2, 0. , 0. , 0. ]),\n",
       " 'player3': array([0.8, 0. , 0. , 0.2, 0. , 0. ]),\n",
       " 'player4': array([0.8, 0. , 0. , 0. , 0.2, 0. ]),\n",
       " 'player5': array([0.8, 0. , 0. , 0. , 0. , 0.2])}"
      ]
     },
     "execution_count": 12,
     "metadata": {},
     "output_type": "execute_result"
    }
   ],
   "source": [
    "M = {(p1, p2): avg_transO for p1 in players for p2 in players}\n",
    "N = {player: avg_transH for player in players}\n",
    "emission_prob = {player: avg_emission for player in players}\n",
    "R = {player: R_singleHO(player) for player in players}\n",
    "initial_dist = np.array([0, 1, 0])\n",
    "\n",
    "model = TeamModel('HO', initial_dist, M, N, R, emission_prob)\n",
    "models.append(model)\n",
    "R"
   ]
  },
  {
   "cell_type": "markdown",
   "id": "25cd69d8",
   "metadata": {},
   "source": [
    "## Single Star"
   ]
  },
  {
   "cell_type": "code",
   "execution_count": 13,
   "id": "e413e2ad",
   "metadata": {},
   "outputs": [
    {
     "data": {
      "text/plain": [
       "{'player1': array([1, 0, 0, 0, 0, 0]),\n",
       " 'player2': array([0, 1, 0, 0, 0, 0]),\n",
       " 'player3': array([0, 1, 0, 0, 0, 0]),\n",
       " 'player4': array([0, 1, 0, 0, 0, 0]),\n",
       " 'player5': array([0, 1, 0, 0, 0, 0])}"
      ]
     },
     "execution_count": 13,
     "metadata": {},
     "output_type": "execute_result"
    }
   ],
   "source": [
    "M = {(p1, p2): star_transO for p1 in players for p2 in players}\n",
    "N = {player: avg_transH for player in players}\n",
    "\n",
    "emission_prob = {player: avg_emission for player in players}\n",
    "R = {player: R_star(player, 'player1') for player in players}\n",
    "initial_dist = np.array([0, 1, 0])\n",
    "\n",
    "model = TeamModel('1Pillar', initial_dist, M, N, R, emission_prob)\n",
    "models.append(model)\n",
    "R"
   ]
  },
  {
   "cell_type": "markdown",
   "id": "fa770273",
   "metadata": {},
   "source": [
    "## Single star + Hidden"
   ]
  },
  {
   "cell_type": "code",
   "execution_count": 14,
   "id": "aeb8afb5",
   "metadata": {},
   "outputs": [
    {
     "data": {
      "text/plain": [
       "{'player1': array([1, 0, 0, 0, 0, 0]),\n",
       " 'player2': array([0.5, 0.5, 0. , 0. , 0. , 0. ]),\n",
       " 'player3': array([0.5, 0.5, 0. , 0. , 0. , 0. ]),\n",
       " 'player4': array([0.5, 0.5, 0. , 0. , 0. , 0. ]),\n",
       " 'player5': array([0.5, 0.5, 0. , 0. , 0. , 0. ])}"
      ]
     },
     "execution_count": 14,
     "metadata": {},
     "output_type": "execute_result"
    }
   ],
   "source": [
    "M = {(p1, p2): star_transO for p1 in players for p2 in players}\n",
    "N = {player: avg_transH for player in players}\n",
    "emission_prob = {player: avg_emission for player in players}\n",
    "emission_prob['player1'] = star_emission\n",
    "R = {player: R_star_plus_hidden(player, 'player1') for player in players}\n",
    "initial_dist = np.array([0, 1, 0])\n",
    "\n",
    "model = TeamModel('1Pillar + H', initial_dist, M, N, R, emission_prob)\n",
    "models.append(model)\n",
    "R"
   ]
  },
  {
   "cell_type": "markdown",
   "id": "e82add0f",
   "metadata": {},
   "source": [
    "## Single star + Anti-dependent non-star (1-Star + H + antiD)"
   ]
  },
  {
   "cell_type": "code",
   "execution_count": 15,
   "id": "599842a7",
   "metadata": {},
   "outputs": [],
   "source": [
    "M = {(p1, p2): star_transO for p1 in players for p2 in players}\n",
    "# Add anti-dependence on non-star player 'player2'\n",
    "for p in players:\n",
    "    M[('player1', p)] = anti_dependent_transO\n",
    "    M[('player2', p)] = anti_dependent_transO\n",
    "    \n",
    "N = {player: avg_transH for player in players}\n",
    "emission_prob = {player: avg_emission for player in players}\n",
    "emission_prob['player1'] = star_emission\n",
    "R = {player: R_star_plus_hidden(player, 'player1') for player in players}\n",
    "initial_dist = np.array([0, 1, 0])\n",
    "\n",
    "model = TeamModel('1Pillar + H + antiD', initial_dist, M, N, R, emission_prob)\n",
    "models.append(model)"
   ]
  },
  {
   "cell_type": "markdown",
   "id": "ab8ae4dd",
   "metadata": {},
   "source": [
    "## Bad teammate - single star (BT1S)"
   ]
  },
  {
   "cell_type": "code",
   "execution_count": 16,
   "id": "b4e93c04",
   "metadata": {},
   "outputs": [
    {
     "data": {
      "text/plain": [
       "{'player1': array([1, 0, 0, 0, 0, 0]),\n",
       " 'player2': array([0, 1, 0, 0, 0, 0]),\n",
       " 'player3': array([0, 1, 0, 0, 0, 0]),\n",
       " 'player4': array([0, 1, 0, 0, 0, 0]),\n",
       " 'player5': array([0, 1, 0, 0, 0, 0])}"
      ]
     },
     "execution_count": 16,
     "metadata": {},
     "output_type": "execute_result"
    }
   ],
   "source": [
    "M_bad_loser = np.array([[0.9, 0.1, 0],\n",
    "                        [0.1, 0.8, 0.1],\n",
    "                        [0.2, 0.3, 0.5]])\n",
    "M = {(p1, p2): M_bad_loser for p1 in players for p2 in players}\n",
    "N = {player: avg_transH for player in players}\n",
    "emission_prob = {player: avg_emission for player in players}\n",
    "emission_prob['player1'] = star_emission\n",
    "R = {player: R_star(player, 'player1') for player in players}\n",
    "initial_dist = np.array([0, 1, 0])\n",
    "\n",
    "model = TeamModel('BT1P', initial_dist, M, N, R, emission_prob)\n",
    "models.append(model)\n",
    "R"
   ]
  },
  {
   "cell_type": "markdown",
   "id": "77e6fba2",
   "metadata": {},
   "source": [
    "## Bad teammate - single star + Hidden (BT1S + Hidden)"
   ]
  },
  {
   "cell_type": "code",
   "execution_count": 17,
   "id": "2350cb68",
   "metadata": {},
   "outputs": [
    {
     "data": {
      "text/plain": [
       "{'player1': array([1, 0, 0, 0, 0, 0]),\n",
       " 'player2': array([0.5, 0.5, 0. , 0. , 0. , 0. ]),\n",
       " 'player3': array([0.5, 0.5, 0. , 0. , 0. , 0. ]),\n",
       " 'player4': array([0.5, 0.5, 0. , 0. , 0. , 0. ]),\n",
       " 'player5': array([0.5, 0.5, 0. , 0. , 0. , 0. ])}"
      ]
     },
     "execution_count": 17,
     "metadata": {},
     "output_type": "execute_result"
    }
   ],
   "source": [
    "M_bad_loser = np.array([[0.9, 0.1, 0],\n",
    "                        [0.1, 0.8, 0.1],\n",
    "                        [0.2, 0.3, 0.5]])\n",
    "M = {(p1, p2): M_bad_loser for p1 in players for p2 in players}\n",
    "N = {player: avg_transH for player in players}\n",
    "emission_prob = {player: avg_emission for player in players}\n",
    "emission_prob['player1'] = star_emission\n",
    "R = {player: R_star_plus_hidden(player, 'player1') for player in players}\n",
    "initial_dist = np.array([0, 1, 0])\n",
    "\n",
    "model = TeamModel('BT1P + H', initial_dist, M, N, R, emission_prob)\n",
    "models.append(model)\n",
    "R"
   ]
  },
  {
   "cell_type": "markdown",
   "id": "2923512e",
   "metadata": {},
   "source": [
    "## Great teammate - Single star (GTSS)"
   ]
  },
  {
   "cell_type": "code",
   "execution_count": 18,
   "id": "a74da126",
   "metadata": {},
   "outputs": [
    {
     "data": {
      "text/plain": [
       "{'player1': array([1, 0, 0, 0, 0, 0]),\n",
       " 'player2': array([0, 1, 0, 0, 0, 0]),\n",
       " 'player3': array([0, 1, 0, 0, 0, 0]),\n",
       " 'player4': array([0, 1, 0, 0, 0, 0]),\n",
       " 'player5': array([0, 1, 0, 0, 0, 0])}"
      ]
     },
     "execution_count": 18,
     "metadata": {},
     "output_type": "execute_result"
    }
   ],
   "source": [
    "M_great_teammate = np.array([[0.5, 0.3, 0.2],\n",
    "                        [0.1, 0.8, 0.1],\n",
    "                        [0.0, 0.1, 0.9]])\n",
    "M = {(p1, p2): M_great_teammate for p1 in players for p2 in players}\n",
    "N = {player: avg_transH for player in players}\n",
    "emission_prob = {player: avg_emission for player in players}\n",
    "emission_prob['player1'] = star_emission\n",
    "R = {player: R_star(player, 'player1') for player in players}\n",
    "initial_dist = np.array([0, 1, 0])\n",
    "\n",
    "model = TeamModel('GT1P', initial_dist, M, N, R, emission_prob)\n",
    "models.append(model)\n",
    "R"
   ]
  },
  {
   "cell_type": "markdown",
   "id": "f7174e63",
   "metadata": {},
   "source": [
    "## Great teammate - single star + Hidden (GT1S + H)"
   ]
  },
  {
   "cell_type": "code",
   "execution_count": 19,
   "id": "30c6bbc9",
   "metadata": {},
   "outputs": [
    {
     "data": {
      "text/plain": [
       "{'player1': array([1, 0, 0, 0, 0, 0]),\n",
       " 'player2': array([0.5, 0.5, 0. , 0. , 0. , 0. ]),\n",
       " 'player3': array([0.5, 0.5, 0. , 0. , 0. , 0. ]),\n",
       " 'player4': array([0.5, 0.5, 0. , 0. , 0. , 0. ]),\n",
       " 'player5': array([0.5, 0.5, 0. , 0. , 0. , 0. ])}"
      ]
     },
     "execution_count": 19,
     "metadata": {},
     "output_type": "execute_result"
    }
   ],
   "source": [
    "M_great_teammate = np.array([[0.5, 0.3, 0.2],\n",
    "                        [0.1, 0.8, 0.1],\n",
    "                        [0.0, 0.1, 0.9]])\n",
    "M = {(p1, p2): M_great_teammate for p1 in players for p2 in players}\n",
    "N = {player: avg_transH for player in players}\n",
    "emission_prob = {player: avg_emission for player in players}\n",
    "emission_prob['player1'] = star_emission\n",
    "R = {player: R_star_plus_hidden(player, 'player1') for player in players}\n",
    "initial_dist = np.array([0, 1, 0])\n",
    "\n",
    "model = TeamModel('GT1P + H', initial_dist, M, N, R, emission_prob)\n",
    "models.append(model)\n",
    "R"
   ]
  },
  {
   "cell_type": "markdown",
   "id": "304ae0de",
   "metadata": {},
   "source": [
    "## 2 stars"
   ]
  },
  {
   "cell_type": "code",
   "execution_count": 20,
   "id": "30af8f4f",
   "metadata": {},
   "outputs": [
    {
     "data": {
      "text/plain": [
       "{'player1': array([1, 0, 0, 0, 0, 0]),\n",
       " 'player2': array([1, 0, 0, 0, 0, 0]),\n",
       " 'player3': array([0. , 0.5, 0.5, 0. , 0. , 0. ]),\n",
       " 'player4': array([0. , 0.5, 0.5, 0. , 0. , 0. ]),\n",
       " 'player5': array([0. , 0.5, 0.5, 0. , 0. , 0. ])}"
      ]
     },
     "execution_count": 20,
     "metadata": {},
     "output_type": "execute_result"
    }
   ],
   "source": [
    "M = {(p1, p2): star_transO for p1 in players for p2 in players}\n",
    "N = {player: avg_transH for player in players}\n",
    "\n",
    "emission_prob = {player: avg_emission for player in players}\n",
    "emission_prob['player1'] = star_emission\n",
    "emission_prob['player2'] = star_emission\n",
    "\n",
    "R = {player: R_two_stars(player, 'player1', 'player2') for player in players}\n",
    "initial_dist = np.array([0, 1, 0])\n",
    "\n",
    "model = TeamModel('2Pillars', initial_dist, M, N, R, emission_prob)\n",
    "models.append(model)\n",
    "R"
   ]
  },
  {
   "cell_type": "markdown",
   "id": "aac00520",
   "metadata": {},
   "source": [
    "## 2-stars with dependence (2-Stars + D)"
   ]
  },
  {
   "cell_type": "code",
   "execution_count": 21,
   "id": "558882b0",
   "metadata": {},
   "outputs": [
    {
     "data": {
      "text/plain": [
       "{'player1': array([0.5, 0. , 0.5, 0. , 0. , 0. ]),\n",
       " 'player2': array([0.5, 0.5, 0. , 0. , 0. , 0. ]),\n",
       " 'player3': array([0. , 0.5, 0.5, 0. , 0. , 0. ]),\n",
       " 'player4': array([0. , 0.5, 0.5, 0. , 0. , 0. ]),\n",
       " 'player5': array([0. , 0.5, 0.5, 0. , 0. , 0. ])}"
      ]
     },
     "execution_count": 21,
     "metadata": {},
     "output_type": "execute_result"
    }
   ],
   "source": [
    "M = {(p1, p2): star_transO for p1 in players for p2 in players}\n",
    "N = {player: avg_transH for player in players}\n",
    "\n",
    "emission_prob = {player: avg_emission for player in players}\n",
    "emission_prob['player1'] = star_emission\n",
    "emission_prob['player2'] = star_emission\n",
    "\n",
    "R = {player: R_two_stars(player, 'player1', 'player2') for player in players}\n",
    "R['player1'] = R_star_plus_hidden('player1', 'player2') # Add star dependence\n",
    "R['player2'] = R_star_plus_hidden('player2', 'player1')\n",
    "initial_dist = np.array([0, 1, 0])\n",
    "\n",
    "model = TeamModel('2Pillars + D', initial_dist, M, N, R, emission_prob)\n",
    "models.append(model)\n",
    "R"
   ]
  },
  {
   "cell_type": "markdown",
   "id": "b2e3c9e6",
   "metadata": {},
   "source": [
    "## 2-stars with anti-dependence (2-Stars + antiD)"
   ]
  },
  {
   "cell_type": "code",
   "execution_count": 22,
   "id": "10e0eabf",
   "metadata": {},
   "outputs": [],
   "source": [
    "M = {(p1, p2): star_transO for p1 in players for p2 in players}\n",
    "N = {player: avg_transH for player in players}\n",
    "\n",
    "# Add anti-dependence\n",
    "for p in players:\n",
    "    M[('player1', p)] = anti_dependent_transO\n",
    "emission_prob = {player: avg_emission for player in players}\n",
    "emission_prob['player1'] = star_emission\n",
    "emission_prob['player2'] = star_emission\n",
    "\n",
    "R = {player: R_two_stars(player, 'player1', 'player2') for player in players}\n",
    "R['player1'] = R_star_plus_hidden('player1', 'player2') # Add star dependence\n",
    "R['player2'] = R_star_plus_hidden('player2', 'player1')\n",
    "initial_dist = np.array([0, 1, 0])\n",
    "\n",
    "model = TeamModel('2Pillars + antiD', initial_dist, M, N, R, emission_prob)\n",
    "models.append(model)"
   ]
  },
  {
   "cell_type": "markdown",
   "id": "a3838a17",
   "metadata": {},
   "source": [
    "## 2-Stars + Hidden (2-Stars + H)"
   ]
  },
  {
   "cell_type": "code",
   "execution_count": 23,
   "id": "e91abe69",
   "metadata": {},
   "outputs": [
    {
     "data": {
      "text/plain": [
       "{'player1': array([1, 0, 0, 0, 0, 0]),\n",
       " 'player2': array([1, 0, 0, 0, 0, 0]),\n",
       " 'player3': array([0.5 , 0.25, 0.25, 0.  , 0.  , 0.  ]),\n",
       " 'player4': array([0.5 , 0.25, 0.25, 0.  , 0.  , 0.  ]),\n",
       " 'player5': array([0.5 , 0.25, 0.25, 0.  , 0.  , 0.  ])}"
      ]
     },
     "execution_count": 23,
     "metadata": {},
     "output_type": "execute_result"
    }
   ],
   "source": [
    "M = {(p1, p2): star_transO for p1 in players for p2 in players}\n",
    "N = {player: avg_transH for player in players}\n",
    "\n",
    "emission_prob = {player: avg_emission for player in players}\n",
    "emission_prob['player1'] = star_emission\n",
    "emission_prob['player2'] = star_emission\n",
    "\n",
    "R = {player: R_two_stars_plus_hidden(player, 'player1', 'player2') for player in players}\n",
    "initial_dist = np.array([0, 1, 0])\n",
    "\n",
    "model = TeamModel('2Pillars + H', initial_dist, M, N, R, emission_prob)\n",
    "models.append(model)\n",
    "R"
   ]
  },
  {
   "cell_type": "markdown",
   "id": "4da32d62",
   "metadata": {},
   "source": [
    "## 2-Stars + Hidden with dependence (2-Stars + H + D)"
   ]
  },
  {
   "cell_type": "code",
   "execution_count": 24,
   "id": "c5ffe034",
   "metadata": {},
   "outputs": [
    {
     "data": {
      "text/plain": [
       "{'player1': array([0.5, 0. , 0.5, 0. , 0. , 0. ]),\n",
       " 'player2': array([0.5, 0.5, 0. , 0. , 0. , 0. ]),\n",
       " 'player3': array([0.5 , 0.25, 0.25, 0.  , 0.  , 0.  ]),\n",
       " 'player4': array([0.5 , 0.25, 0.25, 0.  , 0.  , 0.  ]),\n",
       " 'player5': array([0.5 , 0.25, 0.25, 0.  , 0.  , 0.  ])}"
      ]
     },
     "execution_count": 24,
     "metadata": {},
     "output_type": "execute_result"
    }
   ],
   "source": [
    "M = {(p1, p2): star_transO for p1 in players for p2 in players}\n",
    "N = {player: avg_transH for player in players}\n",
    "\n",
    "emission_prob = {player: avg_emission for player in players}\n",
    "emission_prob['player1'] = star_emission\n",
    "emission_prob['player2'] = star_emission\n",
    "\n",
    "R = {player: R_two_stars_plus_hidden(player, 'player1', 'player2') for player in players}\n",
    "R['player1'] = R_star_plus_hidden('player1', 'player2') # Add star dependence\n",
    "R['player2'] = R_star_plus_hidden('player2', 'player1')\n",
    "initial_dist = np.array([0, 1, 0])\n",
    "\n",
    "model = TeamModel('2Pillars + H + D', initial_dist, M, N, R, emission_prob)\n",
    "models.append(model)\n",
    "R"
   ]
  },
  {
   "cell_type": "markdown",
   "id": "2b60b892",
   "metadata": {},
   "source": [
    "## 3-stars"
   ]
  },
  {
   "cell_type": "code",
   "execution_count": 25,
   "id": "d5d74477",
   "metadata": {},
   "outputs": [
    {
     "data": {
      "text/plain": [
       "{'player1': array([1, 0, 0, 0, 0, 0]),\n",
       " 'player2': array([1, 0, 0, 0, 0, 0]),\n",
       " 'player3': array([1, 0, 0, 0, 0, 0]),\n",
       " 'player4': array([0.  , 0.33, 0.33, 0.34, 0.  , 0.  ]),\n",
       " 'player5': array([0.  , 0.33, 0.33, 0.34, 0.  , 0.  ])}"
      ]
     },
     "execution_count": 25,
     "metadata": {},
     "output_type": "execute_result"
    }
   ],
   "source": [
    "M = {(p1, p2): star_transO for p1 in players for p2 in players}\n",
    "N = {player: avg_transH for player in players}\n",
    "\n",
    "emission_prob = {player: avg_emission for player in players}\n",
    "emission_prob['player1'] = star_emission\n",
    "emission_prob['player2'] = star_emission\n",
    "emission_prob['player3'] = star_emission\n",
    "\n",
    "R = dict()\n",
    "R['player1'] = R['player2'] = R['player3'] = R_singleH\n",
    "R['player4'] = R['player5'] = np.array([0, 0.33, 0.33, 0.34, 0, 0])\n",
    "initial_dist = np.array([0, 1, 0])\n",
    "\n",
    "model = TeamModel('3Pillars', initial_dist, M, N, R, emission_prob)\n",
    "models.append(model)\n",
    "R"
   ]
  },
  {
   "cell_type": "markdown",
   "id": "86485213",
   "metadata": {},
   "source": [
    "## 3-Stars with dependence (3-Stars + D)"
   ]
  },
  {
   "cell_type": "code",
   "execution_count": 26,
   "id": "3de383fb",
   "metadata": {},
   "outputs": [],
   "source": [
    "M = {(p1, p2): star_transO for p1 in players for p2 in players}\n",
    "N = {player: avg_transH for player in players}\n",
    "\n",
    "emission_prob = {player: avg_emission for player in players}\n",
    "emission_prob['player1'] = star_emission\n",
    "emission_prob['player2'] = star_emission\n",
    "emission_prob['player3'] = star_emission\n",
    "\n",
    "R = dict()\n",
    "R['player1'] = np.array([0.5, 0, 0.25, 0.25, 0, 0])\n",
    "R['player2'] = np.array([0.5, 0.25, 0, 0.25, 0, 0])\n",
    "R['player3'] = np.array([0.5, 0.25, 0.25, 0, 0, 0])\n",
    "\n",
    "R['player4'] = R['player5'] = np.array([0.5, 0.2, 0.2, 0.1, 0, 0])\n",
    "initial_dist = np.array([0, 1, 0])\n",
    "\n",
    "model = TeamModel('3Pillars + D', initial_dist, M, N, R, emission_prob)\n",
    "models.append(model)"
   ]
  },
  {
   "cell_type": "markdown",
   "id": "d09f9604",
   "metadata": {},
   "source": [
    "## 3-stars + Hidden (3-Stars + H)"
   ]
  },
  {
   "cell_type": "code",
   "execution_count": null,
   "id": "dd638239",
   "metadata": {},
   "outputs": [],
   "source": [
    "M = {(p1, p2): star_transO for p1 in players for p2 in players}\n",
    "N = {player: avg_transH for player in players}\n",
    "\n",
    "emission_prob = {player: avg_emission for player in players}\n",
    "emission_prob['player1'] = star_emission\n",
    "emission_prob['player2'] = star_emission\n",
    "emission_prob['player3'] = star_emission\n",
    "\n",
    "R = dict()\n",
    "R['player1'] = R['player2'] = R['player3'] = R_singleH\n",
    "R['player4'] = R['player5'] = np.array([0.5, 0.2, 0.2, 0.1, 0, 0])\n",
    "initial_dist = np.array([0, 1, 0])\n",
    "\n",
    "model = TeamModel('3Pillars + H', initial_dist, M, N, R, emission_prob)\n",
    "models.append(model)"
   ]
  },
  {
   "cell_type": "markdown",
   "id": "e01f5bcd",
   "metadata": {},
   "source": [
    "## 3-stars + Hidden with dependence (3-Stars + H + D)"
   ]
  },
  {
   "cell_type": "code",
   "execution_count": null,
   "id": "5848d155",
   "metadata": {},
   "outputs": [],
   "source": [
    "M = {(p1, p2): star_transO for p1 in players for p2 in players}\n",
    "N = {player: avg_transH for player in players}\n",
    "\n",
    "emission_prob = {player: avg_emission for player in players}\n",
    "emission_prob['player1'] = star_emission\n",
    "emission_prob['player2'] = star_emission\n",
    "emission_prob['player3'] = star_emission\n",
    "\n",
    "R = dict()\n",
    "R['player1'] = np.array([0.5, 0, 0.25, 0.25, 0, 0])\n",
    "R['player2'] = np.array([0.5, 0.25, 0, 0.25, 0, 0])\n",
    "R['player3'] = np.array([0.5, 0.25, 0.25, 0, 0, 0])\n",
    "R['player4'] = R['player5'] = np.array([0.5, 0.2, 0.2, 0.1, 0, 0])\n",
    "initial_dist = np.array([0, 1, 0])\n",
    "\n",
    "model = TeamModel('3Pillars + H + D', initial_dist, M, N, R, emission_prob)\n",
    "models.append(model)"
   ]
  },
  {
   "cell_type": "markdown",
   "id": "67d0b53c",
   "metadata": {},
   "source": [
    "## Balanced"
   ]
  },
  {
   "cell_type": "code",
   "execution_count": null,
   "id": "b9e5cfda",
   "metadata": {},
   "outputs": [],
   "source": [
    "M = {(p1, p2): avg_transO for p1 in players for p2 in players}\n",
    "N = {player: avg_transH for player in players}\n",
    "emission_prob = {player: avg_emission for player in players}\n",
    "R = {player: R_uniform for player in players}\n",
    "initial_dist = np.array([0, 1, 0])\n",
    "\n",
    "model = TeamModel('Balanced', initial_dist, M, N, R, emission_prob)\n",
    "models.append(model)\n",
    "R"
   ]
  },
  {
   "cell_type": "markdown",
   "id": "ef6ea615",
   "metadata": {},
   "source": [
    "# Experiments"
   ]
  },
  {
   "cell_type": "markdown",
   "id": "342e406e",
   "metadata": {},
   "source": [
    "## Team state timeseries for each team profile"
   ]
  },
  {
   "cell_type": "code",
   "execution_count": null,
   "id": "556fa90d",
   "metadata": {
    "scrolled": true
   },
   "outputs": [],
   "source": [
    "for model in models:\n",
    "    generate_data(model)\n",
    "    plot_team_state(model)"
   ]
  },
  {
   "cell_type": "markdown",
   "id": "fb0b727f",
   "metadata": {},
   "source": [
    "## Team collapse probability vs Team profile (selected profiles)"
   ]
  },
  {
   "cell_type": "code",
   "execution_count": null,
   "id": "11cc6a69",
   "metadata": {},
   "outputs": [],
   "source": [
    "profiles = ['SingleH', 'SingleHO', '1-Star', '1-Star + H', '2-Stars', '2-Stars + D', '3-Stars']"
   ]
  },
  {
   "cell_type": "code",
   "execution_count": null,
   "id": "26890946",
   "metadata": {},
   "outputs": [],
   "source": [
    "collapse_probs = [np.array(res[prof]) / (T * N_samples) for prof in res if prof in profiles]\n",
    "keys = [prof for prof in res if prof in profiles]\n",
    "plt.bar(keys, collapse_probs)\n",
    "\n",
    "plt.xlabel('Team profiles')\n",
    "plt.ylabel('Team collapse probability')\n",
    "plt.title('Team collapse probability vs Team profile')\n",
    "\n",
    "plt.xticks(rotation=75)\n",
    "plt.savefig(f'{plot_folder}/collapse_prob_selected.pdf', format='pdf', bbox_inches='tight')\n",
    "plt.show()"
   ]
  },
  {
   "cell_type": "markdown",
   "id": "e4c9e9cd",
   "metadata": {},
   "source": [
    "## Team collapse probability vs Team profile"
   ]
  },
  {
   "cell_type": "code",
   "execution_count": null,
   "id": "1f3728ff",
   "metadata": {},
   "outputs": [],
   "source": [
    "collapse_probs = np.array(list(res.values())) / (T * N_samples)\n",
    "profiles = res.keys()\n",
    "\n",
    "plt.bar(profiles, collapse_probs)\n",
    "\n",
    "plt.xlabel('Team profiles')\n",
    "plt.ylabel('Team collapse probability')\n",
    "plt.title('Team collapse probability vs Team profile')\n",
    "\n",
    "plt.xticks(rotation=75)\n",
    "plt.savefig(f'{plot_folder}/collapse_prob.pdf', format='pdf', bbox_inches='tight')\n",
    "plt.show()"
   ]
  },
  {
   "cell_type": "markdown",
   "id": "e86fa93f",
   "metadata": {},
   "source": [
    "## Average time in team collapse"
   ]
  },
  {
   "cell_type": "code",
   "execution_count": null,
   "id": "0ddfc823",
   "metadata": {},
   "outputs": [],
   "source": [
    "profiles = hidden_collapse_time.keys()\n",
    "\n",
    "plt.gcf().set_size_inches(8, 5)\n",
    "plt.bar(profiles, [np.mean(arr) for arr in hidden_collapse_time.values()])\n",
    "\n",
    "plt.xlabel('Team profiles')\n",
    "plt.ylabel('Avg collapse time')\n",
    "plt.title('Avg collapse time vs Team profile')\n",
    "\n",
    "plt.xticks(rotation=75)\n",
    "plt.savefig(f'{plot_folder}/avg_time_in_collapse.pdf', format='pdf', bbox_inches='tight')\n",
    "plt.show()"
   ]
  },
  {
   "cell_type": "code",
   "execution_count": null,
   "id": "bd9761f1",
   "metadata": {},
   "outputs": [],
   "source": [
    "profiles = hidden_collapse_time.keys()\n",
    "\n",
    "plt.bar(profiles, [np.max(arr) for arr in hidden_collapse_time.values()])\n",
    "\n",
    "plt.xlabel('Team profiles')\n",
    "plt.ylabel('Max collapse time')\n",
    "plt.title('Max collapse time vs Team profile')\n",
    "\n",
    "plt.xticks(rotation=75)\n",
    "plt.savefig(f'{plot_folder}/max_time_in_collapse.pdf', format='pdf', bbox_inches='tight')\n",
    "\n",
    "plt.show()"
   ]
  },
  {
   "cell_type": "code",
   "execution_count": null,
   "id": "1136fe85",
   "metadata": {},
   "outputs": [],
   "source": [
    "profiles = hidden_collapse_time.keys()\n",
    "\n",
    "plt.bar(profiles, [np.percentile(arr, 95) for arr in hidden_collapse_time.values()])\n",
    "\n",
    "plt.xlabel('Team profiles')\n",
    "plt.ylabel('95th percentile collapse time')\n",
    "plt.title('95th percentile collapse time vs Team profile')\n",
    "\n",
    "plt.xticks(rotation=75)\n",
    "plt.show()"
   ]
  },
  {
   "cell_type": "markdown",
   "id": "93d41520",
   "metadata": {},
   "source": [
    "## Average time in different zones"
   ]
  },
  {
   "cell_type": "code",
   "execution_count": null,
   "id": "04924b2b",
   "metadata": {},
   "outputs": [],
   "source": [
    "# profiles = zone0_2_hidden.keys()\n",
    "\n",
    "# plt.bar(profiles, [np.mean(arr) for arr in zone0_2_hidden.values()])\n",
    "\n",
    "# plt.xlabel('Team profiles')\n",
    "# plt.ylabel('Avg time in [0, 2]')\n",
    "# plt.title('Avg time in [0, 2] vs Team profile')\n",
    "\n",
    "# plt.xticks(rotation=75)\n",
    "# plt.show()"
   ]
  },
  {
   "cell_type": "markdown",
   "id": "4dd1523e",
   "metadata": {},
   "source": [
    "## How did the collapse happen?"
   ]
  },
  {
   "cell_type": "code",
   "execution_count": null,
   "id": "4120e3ed",
   "metadata": {},
   "outputs": [],
   "source": [
    "timestamps = {model.name: dict() for model in models}"
   ]
  },
  {
   "cell_type": "code",
   "execution_count": null,
   "id": "e13fc2ae",
   "metadata": {},
   "outputs": [],
   "source": [
    "# def find_timestamps(timeseries):\n",
    "#     # Find timestamps of team collapse (ingore continuous 0, only consider the time of the first 0)\n",
    "#     indices = np.where(timeseries == 0)[0]\n",
    "#     if not indices.any():\n",
    "#         return []\n",
    "    \n",
    "#     timestamps = [indices[0]]\n",
    "#     for i in range(1, len(indices)): # remove contiguous indices\n",
    "#         if indices[i] != indices[i-1] + 1:\n",
    "#             timestamps.append(indices[i])\n",
    "#     return timestamps\n",
    "\n",
    "# def find_seqs(timeseries, timestamps, window_size):\n",
    "#     arr = []\n",
    "#     for t in timestamps:\n",
    "#         if t > window_size:\n",
    "#             arr.append(timeseries[t-window_size: t].tolist())\n",
    "#         else:\n",
    "#             arr.append(timeseries[:t].tolist())\n",
    "#     return arr\n",
    "    \n",
    "# def before_collapse(model, window_size = 5):\n",
    "#     name = model.name\n",
    "    \n",
    "#     Hs = team_states[name]\n",
    "#     sequences = []\n",
    "    \n",
    "#     for t in range(T):\n",
    "#         timestamps[name][t] = find_timestamps(Hs[t])\n",
    "#         seqs = find_seqs(Hs[t], timestamps[name][t], window_size)\n",
    "#         sequences += seqs\n",
    "        \n",
    "#     return sequences"
   ]
  },
  {
   "cell_type": "code",
   "execution_count": null,
   "id": "9b44ce4f",
   "metadata": {},
   "outputs": [],
   "source": [
    "# for model in models:\n",
    "#     if model.name == '1-Star':\n",
    "#         sequences = before_collapse(model)"
   ]
  },
  {
   "cell_type": "code",
   "execution_count": null,
   "id": "2b7e96e8",
   "metadata": {},
   "outputs": [],
   "source": [
    "# timestamps['2-Stars']"
   ]
  },
  {
   "cell_type": "code",
   "execution_count": null,
   "id": "b7e8dab0",
   "metadata": {},
   "outputs": [],
   "source": [
    "# name = '1-Star'\n",
    "# t = 0\n",
    "# print(f'hidden            observed')\n",
    "# for timestep in range(0, 20):\n",
    "#     print(f'{[hidden_states[name][t][p][timestep] for p in players]}   {[observed_states[name][t][p][timestep] for p in players]}')\n",
    "    "
   ]
  },
  {
   "cell_type": "markdown",
   "id": "f1266e74",
   "metadata": {},
   "source": [
    "## 1-Star team collapse"
   ]
  },
  {
   "cell_type": "code",
   "execution_count": null,
   "id": "2521d622",
   "metadata": {},
   "outputs": [],
   "source": [
    "# name = '1-Star'\n",
    "# ys = [-1, 0, 1]\n",
    "# t = 0\n",
    "# window = 7\n",
    "# start = 0\n",
    "# fig, axs = plt.subplots(2, 1, figsize=(15, 7))\n",
    "# colors = ['red', 'blue', 'green', 'purple', 'orange']\n",
    "# markers = ['*', '^', 'x', 's', 'D']\n",
    "# sizes = [14, 10, 8, 6, 4]\n",
    "# for p in players:\n",
    "#     i = int(p[-1]) - 1\n",
    "#     label = 'star' if p == 'player1' else p\n",
    "#     axs[0].plot(range(window), hidden_states[name][t][p][start: start+window] - 1, f'--', marker=markers[i], markersize=sizes[i], color=colors[i], label=label)\n",
    "#     axs[1].plot(range(window), observed_states[name][t][p][start: start+window] - 1, '-', marker=markers[i], markersize=sizes[i], color=colors[i], label=label)\n",
    "#     axs[0].legend()\n",
    "#     axs[1].legend()\n",
    "# axs[0].set_ylabel(f'Hidden state')\n",
    "# axs[1].set_ylabel(f'Observed state')\n",
    "# axs[0].set_xticks(range(window))\n",
    "# axs[1].set_xticks(range(window))\n",
    "# axs[0].set_yticks(ys)\n",
    "# axs[1].set_yticks(ys)\n",
    "# plt.xlabel('Time')\n",
    "\n",
    "# # add annotations\n",
    "# arrow_props = dict(facecolor='black', edgecolor='black', arrowstyle='->')\n",
    "# axs[0].annotate('Team collapse', xy=(3, -1), xytext=(3, 0), \n",
    "#                 arrowprops=arrow_props, fontsize=12, color='black')\n",
    "# axs[0].annotate('Star chokes', xy=(2, -1), xytext=(2, 0.5), \n",
    "#                 arrowprops=arrow_props, fontsize=12, color='black')\n",
    "# axs[0].annotate('Team recovers', xy=(4, 0), xytext=(4, 0.5), \n",
    "#                 arrowprops=arrow_props, fontsize=12, color='black')\n",
    "# axs[1].annotate('Star underperforms', xy=(2, -1), xytext=(2, -0.2), \n",
    "#                 arrowprops=arrow_props, fontsize=12, color='black')\n",
    "# plt.savefig(f'{plot_folder}/collapse_1_Star.pdf', format='pdf', bbox_inches='tight')\n",
    "# plt.show()"
   ]
  },
  {
   "cell_type": "markdown",
   "id": "0e68ec2a",
   "metadata": {},
   "source": [
    "## 2-Stars team collapse"
   ]
  },
  {
   "cell_type": "code",
   "execution_count": null,
   "id": "eca168f7",
   "metadata": {},
   "outputs": [],
   "source": [
    "# name = '2-Stars'\n",
    "# t = 2\n",
    "# window = 8\n",
    "# start = 68\n",
    "# fig, axs = plt.subplots(2, 1, figsize=(15, 7))\n",
    "# colors = ['red', 'blue', 'green', 'purple', 'orange']\n",
    "# markers = ['*', '*', 'x', 's', '^']\n",
    "# sizes = [14, 10, 8, 6, 4]\n",
    "# for p in players:\n",
    "#     i = int(p[-1]) - 1\n",
    "#     label = f'star{i+1}' if p == 'player1' or p == 'player2' else p\n",
    "#     axs[0].plot(range(window), hidden_states[name][t][p][start: start+window] - 1, f'--', marker=markers[i], markersize=sizes[i], color=colors[i], label=label)\n",
    "#     axs[1].plot(range(window), observed_states[name][t][p][start: start+window] - 1, '-', marker=markers[i], markersize=sizes[i], color=colors[i], label=label)\n",
    "#     axs[0].legend()\n",
    "#     axs[1].legend()\n",
    "# axs[0].set_ylabel(f'Hidden state')\n",
    "# axs[1].set_ylabel(f'Observed state')\n",
    "# axs[0].set_xticks(range(window), range(start, start+window))\n",
    "# axs[1].set_xticks(range(window), range(start, start+window))\n",
    "# axs[0].set_yticks(ys)\n",
    "# axs[1].set_yticks(ys)\n",
    "# plt.xlabel('Time')\n",
    "\n",
    "# # add annotations\n",
    "# arrow_props = dict(facecolor='black', edgecolor='black', arrowstyle='->')\n",
    "# axs[0].annotate('Team collapse', xy=(4, -1), xytext=(4, 0.2), \n",
    "#                 arrowprops=arrow_props, fontsize=12, color='black')\n",
    "# axs[1].annotate('Stars underperform', xy=(1, 0), xytext=(1, 0.5), \n",
    "#                 arrowprops=arrow_props, fontsize=12, color='black')\n",
    "# axs[0].annotate('No team collapse', xy=(2, 0), xytext=(2, 0.5), \n",
    "#                 arrowprops=arrow_props, fontsize=12, color='black')\n",
    "# axs[1].annotate('Both stars underperform', xy=(3, -1), xytext=(3, 0.5), \n",
    "#                 arrowprops=arrow_props, fontsize=12, color='black')\n",
    "# axs[0].annotate('Star1 chokes', xy=(1, -1), xytext=(1, 0.5), \n",
    "#                 arrowprops=arrow_props, fontsize=12, color='black')\n",
    "# axs[0].annotate('Both stars choke', xy=(3, -1), xytext=(3, 0.7), \n",
    "#                 arrowprops=arrow_props, fontsize=12, color='black')\n",
    "# plt.savefig(f'{plot_folder}/collapse_2_Stars.pdf', format='pdf', bbox_inches='tight')\n",
    "# plt.show()"
   ]
  },
  {
   "cell_type": "code",
   "execution_count": null,
   "id": "8f8de03b",
   "metadata": {},
   "outputs": [],
   "source": []
  }
 ],
 "metadata": {
  "kernelspec": {
   "display_name": "Python 3 (ipykernel)",
   "language": "python",
   "name": "python3"
  },
  "language_info": {
   "codemirror_mode": {
    "name": "ipython",
    "version": 3
   },
   "file_extension": ".py",
   "mimetype": "text/x-python",
   "name": "python",
   "nbconvert_exporter": "python",
   "pygments_lexer": "ipython3",
   "version": "3.10.12"
  }
 },
 "nbformat": 4,
 "nbformat_minor": 5
}
