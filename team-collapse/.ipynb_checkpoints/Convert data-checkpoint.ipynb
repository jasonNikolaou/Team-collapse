{
 "cells": [
  {
   "cell_type": "code",
   "execution_count": 1,
   "id": "199917d2",
   "metadata": {},
   "outputs": [],
   "source": [
    "import pickle\n",
    "import numpy as np"
   ]
  },
  {
   "cell_type": "code",
   "execution_count": 2,
   "id": "83b178e6",
   "metadata": {},
   "outputs": [],
   "source": [
    "teams = ['BKN', 'MIL', 'GSW', 'LAL', 'IND', 'CHA', 'CHI', 'DET',\n",
    "          'WAS', 'TOR', 'BOS', 'NYK', 'CLE', 'MEM', 'PHI', 'NOP',\n",
    "          'HOU','MIN', 'ORL', 'SAS', 'OKC', 'UTA', 'SAC', 'POR',\n",
    "          'DEN', 'PHX', 'DAL', 'ATL', 'MIA', 'LAC']\n",
    "with open('all_teams_PBP_data.pickle', 'rb') as file:\n",
    "    all_teams_stats = pickle.load(file)\n",
    "epsilon = 0.1"
   ]
  },
  {
   "cell_type": "code",
   "execution_count": 4,
   "id": "60788af0",
   "metadata": {},
   "outputs": [],
   "source": [
    "for team in teams:\n",
    "    boston_stats = all_teams_stats[team]\n",
    "\n",
    "    data = {game_id: {} for game_id in boston_stats}\n",
    "\n",
    "    for game_id in boston_stats:\n",
    "        game_stats = boston_stats[game_id]\n",
    "        for player in game_stats:\n",
    "            player_sum = np.array([player_stats if time > 0 else np.nan for (pie, player_stats, game_stats, time) in game_stats[player]])\n",
    "            game_sum = np.array([game_stats if game_stats != 0 else np.nan for (pie, player_stats, game_stats, time) in game_stats[player]])\n",
    "            pie = player_sum / game_sum\n",
    "\n",
    "            data[game_id][player] = pie\n",
    "\n",
    "            # Calculate avg\n",
    "            avg_metric = dict()\n",
    "\n",
    "            players = data[list(data.keys())[0]].keys() # get all players of the team\n",
    "            for player in players:\n",
    "                pies = []\n",
    "                for game_id in boston_stats:\n",
    "                    pie_data = data[game_id][player]\n",
    "                    pies.extend(list(pie_data))\n",
    "\n",
    "                avg_metric[player] = np.nanmean(pies)\n",
    "\n",
    "            # Convert pie to observations: 0, 1, 2\n",
    "            observations = {game_id: {} for game_id in data}\n",
    "\n",
    "            for game_id in observations:\n",
    "                game_stats = data[game_id]\n",
    "                for player in game_stats:\n",
    "                    pies = game_stats[player]\n",
    "                    labels = []\n",
    "                    for pie in pies:\n",
    "                        if np.isnan(pie):\n",
    "            #                 labels.append(3) # bench\n",
    "                            labels.append(1) # assume avg-performance\n",
    "                        elif pie > avg_metric[player] + epsilon/2:\n",
    "                            labels.append(2) # over-performance\n",
    "                        elif pie < avg_metric[player] - epsilon:\n",
    "                            labels.append(0) # under-performance\n",
    "                        else:\n",
    "                            labels.append(1) # avg-performance\n",
    "\n",
    "                    observations[game_id][player] = labels\n",
    "                    \n",
    "            with open(f'./observations/{team}_observations.pickle', 'wb') as file:\n",
    "                pickle.dump(observations, file)"
   ]
  },
  {
   "cell_type": "code",
   "execution_count": null,
   "id": "6a8b8db7",
   "metadata": {},
   "outputs": [],
   "source": []
  }
 ],
 "metadata": {
  "kernelspec": {
   "display_name": "Python 3 (ipykernel)",
   "language": "python",
   "name": "python3"
  },
  "language_info": {
   "codemirror_mode": {
    "name": "ipython",
    "version": 3
   },
   "file_extension": ".py",
   "mimetype": "text/x-python",
   "name": "python",
   "nbconvert_exporter": "python",
   "pygments_lexer": "ipython3",
   "version": "3.10.12"
  }
 },
 "nbformat": 4,
 "nbformat_minor": 5
}
