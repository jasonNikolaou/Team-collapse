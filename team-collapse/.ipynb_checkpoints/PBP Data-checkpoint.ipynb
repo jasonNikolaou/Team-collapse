{
 "cells": [
  {
   "cell_type": "code",
   "execution_count": 1,
   "id": "a373ac4e",
   "metadata": {},
   "outputs": [],
   "source": [
    "import pandas as pd\n",
    "import numpy as np\n",
    "import seaborn as sns\n",
    "import matplotlib.pyplot as plt\n",
    "import networkx as nx\n",
    "import glob\n",
    "import pickle"
   ]
  },
  {
   "cell_type": "code",
   "execution_count": 2,
   "id": "3ac84b05",
   "metadata": {},
   "outputs": [],
   "source": [
    "teams = ['BKN', 'MIL', 'GSW', 'LAL', 'IND', 'CHA', 'CHI', 'DET',\n",
    "          'WAS', 'TOR', 'BOS', 'NYK', 'CLE', 'MEM', 'PHI', 'NOP',\n",
    "          'HOU','MIN', 'ORL', 'SAS', 'OKC', 'UTA', 'SAC', 'POR',\n",
    "          'DEN', 'PHX', 'DAL', 'ATL', 'MIA', 'LAC']\n",
    "window = 4 # time window in minutes."
   ]
  },
  {
   "cell_type": "code",
   "execution_count": 3,
   "id": "335c3d08",
   "metadata": {},
   "outputs": [],
   "source": [
    "# Find \"active\" players in each team\n",
    "active_players = dict()\n",
    "for team in teams:\n",
    "    df = pd.read_csv('./boxscores/boxscores.csv')\n",
    "    df['GAME_ID'] = df['GAME_ID'].astype(str)\n",
    "    df_team = df[(df['TEAM_ABBREVIATION'] == team) & (df['GAME_ID'].str[1:3] == '21')] # team games\n",
    "    num_of_games = len(df_team['GAME_ID'].unique())\n",
    "\n",
    "    players = sorted(df_team['PLAYER_NAME'].unique())\n",
    "    active = []\n",
    "    for p in players:\n",
    "        if len(df_team[df_team['PLAYER_NAME'] == p]['MIN'].notnull()) > 0.7 * num_of_games:\n",
    "            active.append(p)\n",
    "    active_players[team] = active"
   ]
  },
  {
   "cell_type": "code",
   "execution_count": 4,
   "id": "2a6cd80c",
   "metadata": {},
   "outputs": [],
   "source": [
    "files = glob.glob(\"./2021-2022_NBA_PbP_Logs/*\")\n",
    "files = sorted(files)"
   ]
  },
  {
   "cell_type": "code",
   "execution_count": 5,
   "id": "3b80f125",
   "metadata": {},
   "outputs": [
    {
     "data": {
      "text/plain": [
       "Index(['game_id', 'data_set', 'date', 'a1', 'a2', 'a3', 'a4', 'a5', 'h1', 'h2',\n",
       "       'h3', 'h4', 'h5', 'period', 'away_score', 'home_score',\n",
       "       'remaining_time', 'elapsed', 'play_length', 'play_id', 'team',\n",
       "       'event_type', 'assist', 'away', 'home', 'block', 'entered', 'left',\n",
       "       'num', 'opponent', 'outof', 'player', 'points', 'possession', 'reason',\n",
       "       'result', 'steal', 'type', 'shot_distance', 'original_x', 'original_y',\n",
       "       'converted_x', 'converted_y', 'description'],\n",
       "      dtype='object')"
      ]
     },
     "execution_count": 5,
     "metadata": {},
     "output_type": "execute_result"
    }
   ],
   "source": [
    "df = pd.read_csv('[2021-10-20]-0022100005-BOS@NYK.csv')\n",
    "df.columns"
   ]
  },
  {
   "cell_type": "code",
   "execution_count": 30,
   "id": "4e18d763",
   "metadata": {},
   "outputs": [],
   "source": [
    "def calcPlayerStats(team, df):\n",
    "    players = active_players[team]\n",
    "    player_stats = {p : [] for p in players}\n",
    "    start = 0\n",
    "    period = 1\n",
    "\n",
    "    while period <= 4:\n",
    "        end_str = str(start + window).zfill(2)\n",
    "        start_str = str(start).zfill(2)\n",
    "\n",
    "        df_window = df[(df['period'] == period) & (df['elapsed'] >= f'0:{start_str}:00') & (df['elapsed'] <= f'0:{end_str}:00')]\n",
    "\n",
    "        # Calculate PIE for each player\n",
    "        #  PIE = (PTS + FGM + FTM – FGA – FTA + Deff.REB + Off.REB/2 + AST + STL + BLK/2 – PF – TO) / \n",
    "        #        (GAME_PTS + GAME_FGM + ... - GAME_PF - GAME_TO)\n",
    "         \n",
    "        for p in players:\n",
    "            df_player = df_window[(df_window['a1'] == p) | (df_window['a2'] == p) | (df_window['a3'] == p) \n",
    "                                  | (df_window['a4'] == p) | (df_window['a5'] == p) | (df_window['h1'] == p)\n",
    "                                  | (df_window['h2'] == p) | (df_window['h3'] == p) | (df_window['h4'] == p)\n",
    "                                  | (df_window['h5'] == p)]\n",
    "            # Calculate Game stats\n",
    "            G_PTS = df_player['points'].sum(skipna=True)        \n",
    "            G_FGM = len(df_player[(df_player['event_type'] == 'shot') & (df_player['result'] == 'made')])\n",
    "            G_FGA = len(df_player[(df_player['event_type'] == 'shot')])\n",
    "            G_FTM = len(df_player[(df_player['event_type'] == 'free throw') & (df_player['result'] == 'made')])\n",
    "            G_FTA = len(df_player[(df_player['event_type'] == 'free throw')])\n",
    "            G_AST = len(df_player[df_player['assist'].notnull()])\n",
    "\n",
    "            G_DEF_REB = len(df_player[df_player['type'] == 'rebound defensive'])\n",
    "            G_OFF_REB = len(df_player[df_player['type'] == 'rebound offensive'])\n",
    "\n",
    "            G_STL = len(df_player[df_player['steal'].notnull()])\n",
    "            G_BLK = len(df_player[df_player['block'].notnull()])\n",
    "            G_PF = len(df_player[df_player['event_type'] == 'foul'])\n",
    "            G_TO = len(df_player[df_player['event_type'] == 'turnover'])\n",
    "\n",
    "            game_sum = G_PTS + G_FGM + G_FTM - G_FGA - G_FTA + G_DEF_REB + G_OFF_REB / 2 + G_AST + G_STL + G_BLK/2 - G_PF - G_TO\n",
    "            \n",
    "            # Calculate PIE for each player\n",
    "            PTS = df_player[(df_player['event_type'] == 'shot') & (df_player['player'] == p)]['points'].sum(skipna=True)\n",
    "\n",
    "            FGM = len(df_player[(df_player['event_type'] == 'shot') \n",
    "                                & (df_player['result'] == 'made') \n",
    "                                & df_player['player'] == p])\n",
    "            FGA = len(df_player[(df_player['event_type'] == 'shot') & df_player['player'] == p])\n",
    "            FTM = len(df_player[(df_player['event_type'] == 'free throw') \n",
    "                                & (df_player['result'] == 'made')\n",
    "                                & (df_player['player'] == p)])\n",
    "            FTA = len(df_player[(df_player['event_type'] == 'free throw') & df_player['player'] == p])\n",
    "            AST = len(df_player[df_player['assist'] == p])\n",
    "\n",
    "            DEF_REB = len(df_player[(df_player['player'] == p) & (df_player['type'] == 'rebound defensive')])\n",
    "            OFF_REB = len(df_player[(df_player['type'] == 'rebound offensive') & (df_player['player'] == p)])\n",
    "\n",
    "            STL = len(df_player[df_player['steal'] == p])\n",
    "            BLK = len(df_player[df_player['block'] == p])\n",
    "            PF = len(df_player[(df_player['player'] == p) & (df_player['event_type'] == 'foul')])\n",
    "            TO = len(df_player[(df_player['player'] == p) & (df_player['event_type'] == 'turnover')])\n",
    "            \n",
    "            player_sum = PTS + FGM + FTM - FGA - FTA + DEF_REB + OFF_REB / 2 + AST + STL + BLK/2 - PF - TO\n",
    "            \n",
    "            # total time in seconds that player p played during the window\n",
    "            df_play_length = df_player['play_length']\n",
    "            time = df_play_length.agg(lambda col : sum(int(t[-2:]) for t in col)) if len(df_play_length) else 0\n",
    "            \n",
    "            if time == 0:\n",
    "                PIE = 'bench'\n",
    "            elif game_sum == 0:\n",
    "                print(\"game sum == 0 but time != 0\")\n",
    "                PIE = np.nan\n",
    "            else:\n",
    "                PIE = player_sum / game_sum\n",
    "                \n",
    "            # Add stats to dict\n",
    "            player_stats[p].append((PIE, player_sum, game_sum, time))\n",
    "\n",
    "        # update window\n",
    "        start += window\n",
    "        if start >= 12:\n",
    "            start = 0 \n",
    "            period += 1\n",
    "        \n",
    "    return player_stats"
   ]
  },
  {
   "cell_type": "code",
   "execution_count": 31,
   "id": "b80f90d4",
   "metadata": {},
   "outputs": [
    {
     "name": "stdout",
     "output_type": "stream",
     "text": [
      "Calculating stats for BKN ...\n",
      "game id = 0022100001\n",
      "game id = 0022100021\n"
     ]
    },
    {
     "name": "stderr",
     "output_type": "stream",
     "text": [
      "/scratch/3361929.1.csdata/ipykernel_973332/681965417.py:70: RuntimeWarning: invalid value encountered in scalar divide\n",
      "  PIE = player_sum / game_sum\n"
     ]
    },
    {
     "name": "stdout",
     "output_type": "stream",
     "text": [
      "game id = 0022100035\n",
      "game id = 0022100044\n",
      "game id = 0022100057\n",
      "game id = 0022100072\n"
     ]
    },
    {
     "name": "stderr",
     "output_type": "stream",
     "text": [
      "/scratch/3361929.1.csdata/ipykernel_973332/681965417.py:70: RuntimeWarning: invalid value encountered in scalar divide\n",
      "  PIE = player_sum / game_sum\n"
     ]
    },
    {
     "name": "stdout",
     "output_type": "stream",
     "text": [
      "game id = 0022100092\n",
      "game id = 0022100113\n"
     ]
    },
    {
     "name": "stderr",
     "output_type": "stream",
     "text": [
      "/scratch/3361929.1.csdata/ipykernel_973332/681965417.py:70: RuntimeWarning: divide by zero encountered in scalar divide\n",
      "  PIE = player_sum / game_sum\n"
     ]
    },
    {
     "name": "stdout",
     "output_type": "stream",
     "text": [
      "game id = 0022100124\n",
      "game id = 0022100139\n",
      "game id = 0022100148\n",
      "game id = 0022100159\n"
     ]
    },
    {
     "name": "stderr",
     "output_type": "stream",
     "text": [
      "/scratch/3361929.1.csdata/ipykernel_973332/681965417.py:70: RuntimeWarning: invalid value encountered in scalar divide\n",
      "  PIE = player_sum / game_sum\n"
     ]
    },
    {
     "name": "stdout",
     "output_type": "stream",
     "text": [
      "game id = 0022100179\n",
      "game id = 0022100196\n",
      "game id = 0022100210\n",
      "game id = 0022100216\n"
     ]
    },
    {
     "name": "stderr",
     "output_type": "stream",
     "text": [
      "/scratch/3361929.1.csdata/ipykernel_973332/681965417.py:70: RuntimeWarning: invalid value encountered in scalar divide\n",
      "  PIE = player_sum / game_sum\n",
      "/scratch/3361929.1.csdata/ipykernel_973332/681965417.py:70: RuntimeWarning: invalid value encountered in scalar divide\n",
      "  PIE = player_sum / game_sum\n",
      "/scratch/3361929.1.csdata/ipykernel_973332/681965417.py:70: RuntimeWarning: divide by zero encountered in scalar divide\n",
      "  PIE = player_sum / game_sum\n"
     ]
    },
    {
     "name": "stdout",
     "output_type": "stream",
     "text": [
      "game id = 0022100233\n",
      "game id = 0022100253\n"
     ]
    },
    {
     "name": "stderr",
     "output_type": "stream",
     "text": [
      "/scratch/3361929.1.csdata/ipykernel_973332/681965417.py:70: RuntimeWarning: invalid value encountered in scalar divide\n",
      "  PIE = player_sum / game_sum\n"
     ]
    },
    {
     "name": "stdout",
     "output_type": "stream",
     "text": [
      "game id = 0022100270\n",
      "game id = 0022100294\n"
     ]
    },
    {
     "name": "stderr",
     "output_type": "stream",
     "text": [
      "/scratch/3361929.1.csdata/ipykernel_973332/681965417.py:70: RuntimeWarning: invalid value encountered in scalar divide\n",
      "  PIE = player_sum / game_sum\n"
     ]
    },
    {
     "name": "stdout",
     "output_type": "stream",
     "text": [
      "game id = 0022100314\n",
      "game id = 0022100336\n",
      "game id = 0022100343\n"
     ]
    },
    {
     "name": "stderr",
     "output_type": "stream",
     "text": [
      "/scratch/3361929.1.csdata/ipykernel_973332/681965417.py:70: RuntimeWarning: divide by zero encountered in scalar divide\n",
      "  PIE = player_sum / game_sum\n",
      "/scratch/3361929.1.csdata/ipykernel_973332/681965417.py:70: RuntimeWarning: invalid value encountered in scalar divide\n",
      "  PIE = player_sum / game_sum\n"
     ]
    },
    {
     "name": "stdout",
     "output_type": "stream",
     "text": [
      "game id = 0022100363\n",
      "game id = 0022100372\n",
      "game id = 0022100384\n"
     ]
    },
    {
     "name": "stderr",
     "output_type": "stream",
     "text": [
      "/scratch/3361929.1.csdata/ipykernel_973332/681965417.py:70: RuntimeWarning: divide by zero encountered in scalar divide\n",
      "  PIE = player_sum / game_sum\n"
     ]
    },
    {
     "name": "stdout",
     "output_type": "stream",
     "text": [
      "game id = 0022100399\n",
      "game id = 0022100413\n"
     ]
    },
    {
     "name": "stderr",
     "output_type": "stream",
     "text": [
      "/scratch/3361929.1.csdata/ipykernel_973332/681965417.py:70: RuntimeWarning: divide by zero encountered in scalar divide\n",
      "  PIE = player_sum / game_sum\n"
     ]
    },
    {
     "name": "stdout",
     "output_type": "stream",
     "text": [
      "game id = 0022100429\n"
     ]
    },
    {
     "name": "stderr",
     "output_type": "stream",
     "text": [
      "/scratch/3361929.1.csdata/ipykernel_973332/681965417.py:70: RuntimeWarning: invalid value encountered in scalar divide\n",
      "  PIE = player_sum / game_sum\n"
     ]
    },
    {
     "name": "stdout",
     "output_type": "stream",
     "text": [
      "game id = 0022100442\n",
      "game id = 0022100491\n"
     ]
    },
    {
     "name": "stderr",
     "output_type": "stream",
     "text": [
      "/scratch/3361929.1.csdata/ipykernel_973332/681965417.py:70: RuntimeWarning: divide by zero encountered in scalar divide\n",
      "  PIE = player_sum / game_sum\n"
     ]
    },
    {
     "name": "stdout",
     "output_type": "stream",
     "text": [
      "game id = 0022100507\n"
     ]
    },
    {
     "name": "stderr",
     "output_type": "stream",
     "text": [
      "/scratch/3361929.1.csdata/ipykernel_973332/681965417.py:70: RuntimeWarning: divide by zero encountered in scalar divide\n",
      "  PIE = player_sum / game_sum\n"
     ]
    },
    {
     "name": "stdout",
     "output_type": "stream",
     "text": [
      "game id = 0022100525\n"
     ]
    },
    {
     "name": "stderr",
     "output_type": "stream",
     "text": [
      "/scratch/3361929.1.csdata/ipykernel_973332/681965417.py:70: RuntimeWarning: invalid value encountered in scalar divide\n",
      "  PIE = player_sum / game_sum\n",
      "/scratch/3361929.1.csdata/ipykernel_973332/681965417.py:70: RuntimeWarning: divide by zero encountered in scalar divide\n",
      "  PIE = player_sum / game_sum\n",
      "/scratch/3361929.1.csdata/ipykernel_973332/681965417.py:70: RuntimeWarning: divide by zero encountered in scalar divide\n",
      "  PIE = player_sum / game_sum\n",
      "/scratch/3361929.1.csdata/ipykernel_973332/681965417.py:70: RuntimeWarning: divide by zero encountered in scalar divide\n",
      "  PIE = player_sum / game_sum\n",
      "/scratch/3361929.1.csdata/ipykernel_973332/681965417.py:70: RuntimeWarning: divide by zero encountered in scalar divide\n",
      "  PIE = player_sum / game_sum\n"
     ]
    },
    {
     "name": "stdout",
     "output_type": "stream",
     "text": [
      "game id = 0022100542\n"
     ]
    },
    {
     "name": "stderr",
     "output_type": "stream",
     "text": [
      "/scratch/3361929.1.csdata/ipykernel_973332/681965417.py:70: RuntimeWarning: invalid value encountered in scalar divide\n",
      "  PIE = player_sum / game_sum\n"
     ]
    },
    {
     "name": "stdout",
     "output_type": "stream",
     "text": [
      "game id = 0022100554\n",
      "game id = 0022100571\n",
      "game id = 0022100583\n",
      "game id = 0022100602\n"
     ]
    },
    {
     "name": "stderr",
     "output_type": "stream",
     "text": [
      "/scratch/3361929.1.csdata/ipykernel_973332/681965417.py:70: RuntimeWarning: invalid value encountered in scalar divide\n",
      "  PIE = player_sum / game_sum\n"
     ]
    },
    {
     "name": "stdout",
     "output_type": "stream",
     "text": [
      "game id = 0022100486\n"
     ]
    },
    {
     "name": "stderr",
     "output_type": "stream",
     "text": [
      "/scratch/3361929.1.csdata/ipykernel_973332/681965417.py:70: RuntimeWarning: divide by zero encountered in scalar divide\n",
      "  PIE = player_sum / game_sum\n",
      "/scratch/3361929.1.csdata/ipykernel_973332/681965417.py:70: RuntimeWarning: invalid value encountered in scalar divide\n",
      "  PIE = player_sum / game_sum\n"
     ]
    },
    {
     "name": "stdout",
     "output_type": "stream",
     "text": [
      "game id = 0022100625\n"
     ]
    },
    {
     "name": "stderr",
     "output_type": "stream",
     "text": [
      "/scratch/3361929.1.csdata/ipykernel_973332/681965417.py:70: RuntimeWarning: invalid value encountered in scalar divide\n",
      "  PIE = player_sum / game_sum\n"
     ]
    },
    {
     "name": "stdout",
     "output_type": "stream",
     "text": [
      "game id = 0022100630\n",
      "game id = 0022100644\n",
      "game id = 0022100657\n"
     ]
    },
    {
     "name": "stderr",
     "output_type": "stream",
     "text": [
      "/scratch/3361929.1.csdata/ipykernel_973332/681965417.py:70: RuntimeWarning: invalid value encountered in scalar divide\n",
      "  PIE = player_sum / game_sum\n"
     ]
    },
    {
     "name": "stdout",
     "output_type": "stream",
     "text": [
      "game id = 0022100669\n",
      "game id = 0022100691\n"
     ]
    },
    {
     "name": "stderr",
     "output_type": "stream",
     "text": [
      "/scratch/3361929.1.csdata/ipykernel_973332/681965417.py:70: RuntimeWarning: invalid value encountered in scalar divide\n",
      "  PIE = player_sum / game_sum\n"
     ]
    },
    {
     "name": "stdout",
     "output_type": "stream",
     "text": [
      "game id = 0022100706\n"
     ]
    },
    {
     "name": "stderr",
     "output_type": "stream",
     "text": [
      "/scratch/3361929.1.csdata/ipykernel_973332/681965417.py:70: RuntimeWarning: invalid value encountered in scalar divide\n",
      "  PIE = player_sum / game_sum\n"
     ]
    },
    {
     "name": "stdout",
     "output_type": "stream",
     "text": [
      "game id = 0022100718\n"
     ]
    },
    {
     "name": "stderr",
     "output_type": "stream",
     "text": [
      "/scratch/3361929.1.csdata/ipykernel_973332/681965417.py:70: RuntimeWarning: invalid value encountered in scalar divide\n",
      "  PIE = player_sum / game_sum\n"
     ]
    },
    {
     "name": "stdout",
     "output_type": "stream",
     "text": [
      "game id = 0022100453\n",
      "game id = 0022100750\n"
     ]
    },
    {
     "name": "stderr",
     "output_type": "stream",
     "text": [
      "/scratch/3361929.1.csdata/ipykernel_973332/681965417.py:70: RuntimeWarning: invalid value encountered in scalar divide\n",
      "  PIE = player_sum / game_sum\n"
     ]
    },
    {
     "name": "stdout",
     "output_type": "stream",
     "text": [
      "game id = 0022100772\n"
     ]
    },
    {
     "name": "stderr",
     "output_type": "stream",
     "text": [
      "/scratch/3361929.1.csdata/ipykernel_973332/681965417.py:70: RuntimeWarning: invalid value encountered in scalar divide\n",
      "  PIE = player_sum / game_sum\n",
      "/scratch/3361929.1.csdata/ipykernel_973332/681965417.py:70: RuntimeWarning: invalid value encountered in scalar divide\n",
      "  PIE = player_sum / game_sum\n",
      "/scratch/3361929.1.csdata/ipykernel_973332/681965417.py:70: RuntimeWarning: divide by zero encountered in scalar divide\n",
      "  PIE = player_sum / game_sum\n"
     ]
    },
    {
     "name": "stdout",
     "output_type": "stream",
     "text": [
      "game id = 0022100780\n",
      "game id = 0022100793\n",
      "game id = 0022100804\n"
     ]
    },
    {
     "name": "stderr",
     "output_type": "stream",
     "text": [
      "/scratch/3361929.1.csdata/ipykernel_973332/681965417.py:70: RuntimeWarning: invalid value encountered in scalar divide\n",
      "  PIE = player_sum / game_sum\n",
      "/scratch/3361929.1.csdata/ipykernel_973332/681965417.py:70: RuntimeWarning: invalid value encountered in scalar divide\n",
      "  PIE = player_sum / game_sum\n",
      "/scratch/3361929.1.csdata/ipykernel_973332/681965417.py:70: RuntimeWarning: invalid value encountered in scalar divide\n",
      "  PIE = player_sum / game_sum\n",
      "/scratch/3361929.1.csdata/ipykernel_973332/681965417.py:70: RuntimeWarning: divide by zero encountered in scalar divide\n",
      "  PIE = player_sum / game_sum\n"
     ]
    },
    {
     "name": "stdout",
     "output_type": "stream",
     "text": [
      "game id = 0022100817\n",
      "game id = 0022100832\n",
      "game id = 0022100851\n"
     ]
    },
    {
     "name": "stderr",
     "output_type": "stream",
     "text": [
      "/scratch/3361929.1.csdata/ipykernel_973332/681965417.py:70: RuntimeWarning: invalid value encountered in scalar divide\n",
      "  PIE = player_sum / game_sum\n"
     ]
    },
    {
     "name": "stdout",
     "output_type": "stream",
     "text": [
      "game id = 0022100859\n"
     ]
    },
    {
     "name": "stderr",
     "output_type": "stream",
     "text": [
      "/scratch/3361929.1.csdata/ipykernel_973332/681965417.py:70: RuntimeWarning: invalid value encountered in scalar divide\n",
      "  PIE = player_sum / game_sum\n",
      "/scratch/3361929.1.csdata/ipykernel_973332/681965417.py:70: RuntimeWarning: invalid value encountered in scalar divide\n",
      "  PIE = player_sum / game_sum\n"
     ]
    },
    {
     "name": "stdout",
     "output_type": "stream",
     "text": [
      "game id = 0022100877\n"
     ]
    },
    {
     "name": "stderr",
     "output_type": "stream",
     "text": [
      "/scratch/3361929.1.csdata/ipykernel_973332/681965417.py:70: RuntimeWarning: invalid value encountered in scalar divide\n",
      "  PIE = player_sum / game_sum\n",
      "/scratch/3361929.1.csdata/ipykernel_973332/681965417.py:70: RuntimeWarning: invalid value encountered in scalar divide\n",
      "  PIE = player_sum / game_sum\n"
     ]
    },
    {
     "name": "stdout",
     "output_type": "stream",
     "text": [
      "game id = 0022100464\n",
      "game id = 0022100890\n",
      "game id = 0022100910\n",
      "game id = 0022100726\n",
      "game id = 0022100928\n"
     ]
    },
    {
     "name": "stderr",
     "output_type": "stream",
     "text": [
      "/scratch/3361929.1.csdata/ipykernel_973332/681965417.py:70: RuntimeWarning: invalid value encountered in scalar divide\n",
      "  PIE = player_sum / game_sum\n",
      "/scratch/3361929.1.csdata/ipykernel_973332/681965417.py:70: RuntimeWarning: invalid value encountered in scalar divide\n",
      "  PIE = player_sum / game_sum\n"
     ]
    },
    {
     "name": "stdout",
     "output_type": "stream",
     "text": [
      "game id = 0022100941\n",
      "game id = 0022100960\n",
      "game id = 0022100975\n",
      "game id = 0022100993\n",
      "game id = 0022101012\n"
     ]
    },
    {
     "name": "stderr",
     "output_type": "stream",
     "text": [
      "/scratch/3361929.1.csdata/ipykernel_973332/681965417.py:70: RuntimeWarning: invalid value encountered in scalar divide\n",
      "  PIE = player_sum / game_sum\n"
     ]
    },
    {
     "name": "stdout",
     "output_type": "stream",
     "text": [
      "game id = 0022101030\n",
      "game id = 0022101036\n"
     ]
    },
    {
     "name": "stderr",
     "output_type": "stream",
     "text": [
      "/scratch/3361929.1.csdata/ipykernel_973332/681965417.py:70: RuntimeWarning: invalid value encountered in scalar divide\n",
      "  PIE = player_sum / game_sum\n",
      "/scratch/3361929.1.csdata/ipykernel_973332/681965417.py:70: RuntimeWarning: invalid value encountered in scalar divide\n",
      "  PIE = player_sum / game_sum\n"
     ]
    },
    {
     "name": "stdout",
     "output_type": "stream",
     "text": [
      "game id = 0022101048\n"
     ]
    },
    {
     "name": "stderr",
     "output_type": "stream",
     "text": [
      "/scratch/3361929.1.csdata/ipykernel_973332/681965417.py:70: RuntimeWarning: invalid value encountered in scalar divide\n",
      "  PIE = player_sum / game_sum\n"
     ]
    },
    {
     "name": "stdout",
     "output_type": "stream",
     "text": [
      "game id = 0022101075\n"
     ]
    },
    {
     "name": "stderr",
     "output_type": "stream",
     "text": [
      "/scratch/3361929.1.csdata/ipykernel_973332/681965417.py:70: RuntimeWarning: invalid value encountered in scalar divide\n",
      "  PIE = player_sum / game_sum\n",
      "/scratch/3361929.1.csdata/ipykernel_973332/681965417.py:70: RuntimeWarning: invalid value encountered in scalar divide\n",
      "  PIE = player_sum / game_sum\n",
      "/scratch/3361929.1.csdata/ipykernel_973332/681965417.py:70: RuntimeWarning: invalid value encountered in scalar divide\n",
      "  PIE = player_sum / game_sum\n"
     ]
    },
    {
     "name": "stdout",
     "output_type": "stream",
     "text": [
      "game id = 0022101089\n"
     ]
    },
    {
     "name": "stderr",
     "output_type": "stream",
     "text": [
      "/scratch/3361929.1.csdata/ipykernel_973332/681965417.py:70: RuntimeWarning: invalid value encountered in scalar divide\n",
      "  PIE = player_sum / game_sum\n",
      "/scratch/3361929.1.csdata/ipykernel_973332/681965417.py:70: RuntimeWarning: invalid value encountered in scalar divide\n",
      "  PIE = player_sum / game_sum\n"
     ]
    },
    {
     "name": "stdout",
     "output_type": "stream",
     "text": [
      "game id = 0022101111\n",
      "game id = 0022101120\n",
      "game id = 0022101133\n"
     ]
    },
    {
     "name": "stderr",
     "output_type": "stream",
     "text": [
      "/scratch/3361929.1.csdata/ipykernel_973332/681965417.py:70: RuntimeWarning: invalid value encountered in scalar divide\n",
      "  PIE = player_sum / game_sum\n"
     ]
    },
    {
     "name": "stdout",
     "output_type": "stream",
     "text": [
      "game id = 0022101148\n"
     ]
    },
    {
     "name": "stderr",
     "output_type": "stream",
     "text": [
      "/scratch/3361929.1.csdata/ipykernel_973332/681965417.py:70: RuntimeWarning: invalid value encountered in scalar divide\n",
      "  PIE = player_sum / game_sum\n"
     ]
    },
    {
     "name": "stdout",
     "output_type": "stream",
     "text": [
      "game id = 0022101163\n",
      "game id = 0022101180\n",
      "game id = 0022101191\n"
     ]
    },
    {
     "name": "stderr",
     "output_type": "stream",
     "text": [
      "/scratch/3361929.1.csdata/ipykernel_973332/681965417.py:70: RuntimeWarning: invalid value encountered in scalar divide\n",
      "  PIE = player_sum / game_sum\n",
      "/scratch/3361929.1.csdata/ipykernel_973332/681965417.py:70: RuntimeWarning: divide by zero encountered in scalar divide\n",
      "  PIE = player_sum / game_sum\n"
     ]
    },
    {
     "name": "stdout",
     "output_type": "stream",
     "text": [
      "game id = 0022101205\n"
     ]
    },
    {
     "name": "stderr",
     "output_type": "stream",
     "text": [
      "/scratch/3361929.1.csdata/ipykernel_973332/681965417.py:70: RuntimeWarning: invalid value encountered in scalar divide\n",
      "  PIE = player_sum / game_sum\n"
     ]
    },
    {
     "name": "stdout",
     "output_type": "stream",
     "text": [
      "game id = 0022101216\n",
      "game id = 0052100101\n"
     ]
    },
    {
     "name": "stderr",
     "output_type": "stream",
     "text": [
      "/scratch/3361929.1.csdata/ipykernel_973332/681965417.py:70: RuntimeWarning: invalid value encountered in scalar divide\n",
      "  PIE = player_sum / game_sum\n"
     ]
    },
    {
     "name": "stdout",
     "output_type": "stream",
     "text": [
      "game id = 0042100111\n"
     ]
    },
    {
     "name": "stderr",
     "output_type": "stream",
     "text": [
      "/scratch/3361929.1.csdata/ipykernel_973332/681965417.py:70: RuntimeWarning: divide by zero encountered in scalar divide\n",
      "  PIE = player_sum / game_sum\n",
      "/scratch/3361929.1.csdata/ipykernel_973332/681965417.py:70: RuntimeWarning: invalid value encountered in scalar divide\n",
      "  PIE = player_sum / game_sum\n"
     ]
    },
    {
     "name": "stdout",
     "output_type": "stream",
     "text": [
      "game id = 0042100112\n"
     ]
    },
    {
     "name": "stderr",
     "output_type": "stream",
     "text": [
      "/scratch/3361929.1.csdata/ipykernel_973332/681965417.py:70: RuntimeWarning: invalid value encountered in scalar divide\n",
      "  PIE = player_sum / game_sum\n",
      "/scratch/3361929.1.csdata/ipykernel_973332/681965417.py:70: RuntimeWarning: invalid value encountered in scalar divide\n",
      "  PIE = player_sum / game_sum\n"
     ]
    },
    {
     "name": "stdout",
     "output_type": "stream",
     "text": [
      "game id = 0042100113\n",
      "game id = 0042100114\n"
     ]
    },
    {
     "name": "stderr",
     "output_type": "stream",
     "text": [
      "/scratch/3361929.1.csdata/ipykernel_973332/681965417.py:70: RuntimeWarning: invalid value encountered in scalar divide\n",
      "  PIE = player_sum / game_sum\n"
     ]
    }
   ],
   "source": [
    "all_teams_stats = {team: {} for team in teams}\n",
    "for team in teams:\n",
    "    print(f'Calculating stats for {team} ...')\n",
    "    files_team = [f for f in files if team in f]\n",
    "    \n",
    "    for f in files_team:\n",
    "        df = pd.read_csv(f)\n",
    "        game_id = f[-22:-12]\n",
    "        print(f'game id = {game_id}')\n",
    "        player_stats = calcPlayerStats(team, df)\n",
    "\n",
    "        all_teams_stats[team][game_id] = player_stats\n",
    "        \n",
    "    break"
   ]
  },
  {
   "cell_type": "code",
   "execution_count": null,
   "id": "1e1bfdbb",
   "metadata": {},
   "outputs": [],
   "source": [
    "with open('./all_teams_PBP_data.pickle', 'wb') as file:\n",
    "    pickle.dump(all_teams_stats, file)"
   ]
  },
  {
   "cell_type": "code",
   "execution_count": null,
   "id": "670efe00",
   "metadata": {},
   "outputs": [],
   "source": []
  },
  {
   "cell_type": "code",
   "execution_count": null,
   "id": "d6f6a350",
   "metadata": {},
   "outputs": [],
   "source": []
  },
  {
   "cell_type": "code",
   "execution_count": null,
   "id": "4a12f27c",
   "metadata": {},
   "outputs": [],
   "source": []
  },
  {
   "cell_type": "code",
   "execution_count": null,
   "id": "4f107597",
   "metadata": {},
   "outputs": [],
   "source": []
  },
  {
   "cell_type": "code",
   "execution_count": null,
   "id": "10a54915",
   "metadata": {},
   "outputs": [],
   "source": []
  }
 ],
 "metadata": {
  "kernelspec": {
   "display_name": "Python 3 (ipykernel)",
   "language": "python",
   "name": "python3"
  },
  "language_info": {
   "codemirror_mode": {
    "name": "ipython",
    "version": 3
   },
   "file_extension": ".py",
   "mimetype": "text/x-python",
   "name": "python",
   "nbconvert_exporter": "python",
   "pygments_lexer": "ipython3",
   "version": "3.10.12"
  }
 },
 "nbformat": 4,
 "nbformat_minor": 5
}
